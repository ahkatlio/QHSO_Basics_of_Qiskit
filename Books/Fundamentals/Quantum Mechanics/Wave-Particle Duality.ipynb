{
 "cells": [
  {
   "cell_type": "markdown",
   "metadata": {},
   "source": [
    "# Wave-Particle Duality #"
   ]
  },
  {
   "cell_type": "markdown",
   "metadata": {},
   "source": [
    "## 1. Wave-Like Properties ##\n",
    "De Broglie Wavelength: Louis de Broglie proposed that every particle has an associated wavelength, given by the de Broglie wavelength formula."
   ]
  },
  {
   "cell_type": "markdown",
   "metadata": {},
   "source": [
    "## 2. Particle-Like Properties ##\n",
    "The **photoelectric effect** is the emission of electrons from a material when it is exposed to light (usually in the form of photons). This phenomenon can be explained by treating light as discrete particles (photons) with energy proportional to their frequency."
   ]
  },
  {
   "cell_type": "markdown",
   "metadata": {},
   "source": [
    "## 3. The Double-Slit Experiment ##\n",
    "The double-slit experiment is a classic example demonstrating wave-particle duality. In this experiment, particles, such as electrons or photons, are directed at a barrier with two slits. When the particles pass through the slits and hit a screen on the other side, they create an interference pattern, similar to what one would observe with light waves."
   ]
  },
  {
   "cell_type": "markdown",
   "metadata": {},
   "source": []
  }
 ],
 "metadata": {
  "language_info": {
   "name": "python"
  },
  "orig_nbformat": 4
 },
 "nbformat": 4,
 "nbformat_minor": 2
}
