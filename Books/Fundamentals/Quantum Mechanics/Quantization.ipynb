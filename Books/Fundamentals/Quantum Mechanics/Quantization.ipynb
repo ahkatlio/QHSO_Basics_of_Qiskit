{
 "cells": [
  {
   "cell_type": "markdown",
   "metadata": {},
   "source": [
    "# Quantization in Atomic and Molecular Chemistry #"
   ]
  },
  {
   "cell_type": "markdown",
   "metadata": {},
   "source": []
  },
  {
   "cell_type": "markdown",
   "metadata": {},
   "source": [
    "## 1. Quantization of Energy ##\n",
    "In classical physics, energy is considered continuous, meaning it can take any value. However, in quantum mechanics, energy levels are quantized, which means they can only have specific discrete values. This quantization of energy was first proposed by Max Planck."
   ]
  },
  {
   "cell_type": "markdown",
   "metadata": {},
   "source": [
    "## 2. Bohr Model of Hydrogen Atom ##\n",
    "The Bohr model is a simplified model of the hydrogen atom that incorporates quantization. It was developed by Niels Bohr in 1913.\n",
    "\n",
    "In the Bohr model, an electron orbits the nucleus in specific energy levels, represented by integer values of $n$. These energy levels are also referred to as electron shells. The energy of an electron in the nth orbit is given by:"
   ]
  },
  {
   "cell_type": "markdown",
   "metadata": {},
   "source": [
    "## 3. Emission and Absorption of Light ##\n",
    "When an electron transitions from a higher energy level (e.g., n = 2) to a lower energy level (e.g., n = 1), it releases energy in the form of electromagnetic radiation, typically visible light. This is known as emission.\n",
    "\n",
    "Conversely, when an electron absorbs energy from external sources, it can move to a higher energy level. This results in the absorption of specific wavelengths of light, which can be used to identify elements or molecules."
   ]
  },
  {
   "cell_type": "markdown",
   "metadata": {},
   "source": [
    "## 4. Photoelectric Effect ##"
   ]
  },
  {
   "cell_type": "markdown",
   "metadata": {},
   "source": []
  }
 ],
 "metadata": {
  "language_info": {
   "name": "python"
  },
  "orig_nbformat": 4
 },
 "nbformat": 4,
 "nbformat_minor": 2
}
