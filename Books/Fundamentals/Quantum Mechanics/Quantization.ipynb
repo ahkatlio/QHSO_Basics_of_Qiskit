{
 "cells": [
  {
   "cell_type": "markdown",
   "metadata": {},
   "source": [
    "<!DOCTYPE html>\n",
    "<html>\n",
    "\n",
    "<head>\n",
    "    <title>Quantization in Atomic and Molecular Chemistry</title>\n",
    "    <link href=\"https://fonts.googleapis.com/css?family=Jost&display=swap\" rel=\"stylesheet\">\n",
    "    <style>\n",
    "        body {\n",
    "            font-family: 'Jost', sans-serif;\n",
    "        }\n",
    "        h1, h2, h3, h4, h5, h6, p, ul {\n",
    "            font-family: 'Jost', sans-serif;\n",
    "        }\n",
    "        h1{\n",
    "            color: orange;\n",
    "        }\n",
    "        h2 {\n",
    "            color: #8BC34A;\n",
    "        }\n",
    "        .center {\n",
    "            text-align: center;\n",
    "        }\n",
    "        table.center {\n",
    "            margin: auto;\n",
    "            border-collapse: collapse;\n",
    "            width: 50%;\n",
    "        }\n",
    "        th {\n",
    "            background-color: #8BC34A;\n",
    "            color: white;\n",
    "            font-weight: bold;\n",
    "            padding: 10px;\n",
    "            text-align: center;\n",
    "            border: 1px solid #ddd;\n",
    "        }\n",
    "        td {\n",
    "            padding: 10px;\n",
    "            text-align: center;\n",
    "            border: 1px solid #ddd;\n",
    "        }\n",
    "        tr:nth-child(even) {\n",
    "            background-color: #f2f2f2;\n",
    "        }\n",
    "    </style>\n",
    "</head>\n",
    "\n",
    "<body>\n",
    "    <div class=\"center\">\n",
    "        <img src=\"QM_Image/logo_round.png\" alt=\"QHSO Logo\" width=\"100\">\n",
    "    </div>\n",
    "    <h1 style=\"text-align: center;\">Quantization in Atomic and Molecular Chemistry</h1>\n",
    "    <h2>1. Quantization of Energy</h2>\n",
    "    <p>In classical physics, energy is considered continuous, meaning it can take any value. However, in quantum mechanics, energy levels are quantized, which means they can only have specific discrete values. This quantization of energy was first proposed by Max Planck.</p>\n",
    "    <p>Planck proposed that energy is quantized in the form of small packets called quanta. The energy of a quantum is given by the equation:</p>\n",
    "    <p style=\"text-align: center;\">E = hν</p>\n",
    "    <p>where E is the energy of the quantum, h is Planck's constant, and ν is the frequency of the quantum.</p>\n",
    "    <p>Planck's constant is a physical constant that is the quantum of electromagnetic action, which relates the energy carried by a photon to its frequency. It is denoted by the symbol h and has a value of 6.62606957 × 10<sup>-34</sup> J·s.</p>\n",
    "    <p>Planck's constant is named after Max Planck, one of the founders of quantum theory, who proposed it in 1900.</p>\n",
    "    <br>\n",
    "    <div class=\"center\">\n",
    "        <img src=\"QM_Image/max_planck.jpeg\" alt=\"max_planck\" width=\"500\">\n",
    "    </div>\n",
    "    <p style=\"text-align: center;\">Max Planck</p>\n",
    "    <br>\n",
    "    <h2>2. Bohr Model of Hydrogen Atom</h2>\n",
    "    <p>The Bohr model of the hydrogen atom was proposed by Niels Bohr in 1913. It is a quantum-mechanical model of the hydrogen atom that describes the atom as a nucleus surrounded by electrons that travel in circular orbits around the nucleus, similar to the structure of the Solar System. In the Bohr model, an electron orbits the nucleus in specific energy levels, represented by integer values of n. These energy levels are also referred to as electron shells. The energy of an electron in the nth orbit is given by:</p>\n",
    "    <br>\n",
    "    <div class=\"center\">\n",
    "        <img src=\"QM_Image/max_planck.jpeg\" alt=\"max_planck\" width=\"500\">\n",
    "    </div>\n",
    "</body>\n",
    "\n",
    "</html>"
   ]
  },
  {
   "cell_type": "markdown",
   "metadata": {},
   "source": [
    "# Quantization in Atomic and Molecular Chemistry #"
   ]
  },
  {
   "cell_type": "markdown",
   "metadata": {},
   "source": [
    "## 1. Quantization of Energy ##\n",
    "In classical physics, energy is considered continuous, meaning it can take any value. However, in quantum mechanics, energy levels are quantized, which means they can only have specific discrete values. This quantization of energy was first proposed by Max Planck."
   ]
  },
  {
   "cell_type": "markdown",
   "metadata": {},
   "source": [
    "## 2. Bohr Model of Hydrogen Atom ##\n",
    "The Bohr model is a simplified model of the hydrogen atom that incorporates quantization. It was developed by Niels Bohr in 1913.\n",
    "\n",
    "In the Bohr model, an electron orbits the nucleus in specific energy levels, represented by integer values of $n$. These energy levels are also referred to as electron shells. The energy of an electron in the nth orbit is given by:\n",
    "![Bohr Model](BM.png)"
   ]
  },
  {
   "cell_type": "markdown",
   "metadata": {},
   "source": [
    "## 3. Emission and Absorption of Light ##\n",
    "When an electron transitions from a higher energy level (e.g., n = 2) to a lower energy level (e.g., n = 1), it releases energy in the form of electromagnetic radiation, typically visible light. This is known as emission.\n",
    "\n",
    "Conversely, when an electron absorbs energy from external sources, it can move to a higher energy level. This results in the absorption of specific wavelengths of light, which can be used to identify elements or molecules."
   ]
  },
  {
   "cell_type": "markdown",
   "metadata": {},
   "source": [
    "<!DOCTYPE html>\n",
    "<html>\n",
    "\n",
    "<head>\n",
    "    <link href=\"https://fonts.googleapis.com/css?family=Jost&display=swap\" rel=\"stylesheet\">\n",
    "    <style>\n",
    "        body {\n",
    "            font-family: 'Jost', sans-serif;\n",
    "        }\n",
    "        .created-by {\n",
    "         font-family: 'Jost', sans-serif;\n",
    "         text-align: center;\n",
    "         margin-top: 50px;\n",
    "        }\n",
    "        .created-by a {\n",
    "            color: #fff;\n",
    "            text-decoration: none;\n",
    "        }\n",
    "        .created-by a:hover {\n",
    "            color: #8BC34A;\n",
    "        }\n",
    "    </style>\n",
    "</head>\n",
    "\n",
    "<body>\n",
    "    <div class=\"created-by\">\n",
    "        Created by <a href=\"https://www.linkedin.com/in/oneal-wang-a70565273/\">Oneal Wang</a>\n",
    "    </div>\n",
    "</body>\n",
    "\n",
    "</html>"
   ]
  }
 ],
 "metadata": {
  "language_info": {
   "name": "python"
  },
  "orig_nbformat": 4
 },
 "nbformat": 4,
 "nbformat_minor": 2
}
