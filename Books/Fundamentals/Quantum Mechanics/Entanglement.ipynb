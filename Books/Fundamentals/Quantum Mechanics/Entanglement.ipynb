{
 "cells": [
  {
   "cell_type": "markdown",
   "metadata": {},
   "source": [
    "# Quantum Entanglement #"
   ]
  },
  {
   "cell_type": "markdown",
   "metadata": {},
   "source": [
    "### 1. Quantum State and Observables ###\n",
    "In quantum mechanics, the state of a particle is described by a mathematical entity called a wave function or state vector. This wave function contains all the information about the possible states the particle can be in and their probabilities. Observables, such as position, momentum, or spin, are represented by operators in quantum mechanics."
   ]
  },
  {
   "cell_type": "markdown",
   "metadata": {},
   "source": [
    "### 2. Entanglement Defined ###\n",
    "Now, let's dive into quantum entanglement. Entanglement occurs when two or more particles become correlated in such a way that the state of one particle cannot be described independently of the state of the other(s), even when they are separated by large distances. These particles are said to be entangled."
   ]
  },
  {
   "cell_type": "markdown",
   "metadata": {},
   "source": [
    "### 3. Example of Entanglement ###\n",
    "Consider a common example involving two entangled electrons. These electrons can be prepared in a state where their spins are entangled. This means that the total spin of the two electrons is zero, but the individual spins are not defined until they are measured. If you measure the spin of one electron and find it to be \"up,\" the spin of the other electron will instantly be \"down,\" no matter how far apart they are. This instantaneous correlation is what makes entanglement so perplexing."
   ]
  },
  {
   "cell_type": "markdown",
   "metadata": {},
   "source": [
    "### 4. No Local Hidden Variables ###\n",
    "Entanglement challenges the concept of local realism, which suggests that particles have pre-determined properties that are hidden from us until we measure them. In the case of entangled particles, experiments have shown that there cannot be any hidden variables determining their outcomes. This was famously demonstrated in Bell's theorem and subsequent experiments."
   ]
  },
  {
   "cell_type": "markdown",
   "metadata": {},
   "source": [
    "### 5. Non-Separability ###\n",
    "Entanglement also implies non-separability. Even though entangled particles can be separated by large distances, they remain interconnected in a way that classical physics cannot explain. This phenomenon has been tested experimentally using Bell tests and has consistently supported the predictions of quantum mechanics."
   ]
  },
  {
   "cell_type": "markdown",
   "metadata": {},
   "source": [
    "### 6. Applications ###\n",
    "Entanglement has practical applications in quantum technologies, such as quantum computing, quantum cryptography, and quantum teleportation. In quantum computing, qubits (quantum bits) can be entangled to perform complex calculations much faster than classical computers. Quantum cryptography uses entanglement to secure communication channels, as any attempt to intercept the communication would disrupt the entanglement and be detected. Quantum teleportation is a process by which the quantum state of one particle can be transmitted to another, thanks to entanglement."
   ]
  },
  {
   "cell_type": "markdown",
   "metadata": {},
   "source": []
  }
 ],
 "metadata": {
  "language_info": {
   "name": "python"
  },
  "orig_nbformat": 4
 },
 "nbformat": 4,
 "nbformat_minor": 2
}
