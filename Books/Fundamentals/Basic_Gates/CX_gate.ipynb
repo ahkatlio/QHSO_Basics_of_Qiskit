{
 "cells": [
  {
   "cell_type": "markdown",
   "metadata": {},
   "source": [
    "<!DOCTYPE html>\n",
    "<html>\n",
    "\n",
    "<head>\n",
    "    <title>CNOT gate</title>\n",
    "    <link href=\"https://fonts.googleapis.com/css?family=Jost&display=swap\" rel=\"stylesheet\">\n",
    "    <style>\n",
    "        body {\n",
    "            font-family: 'Jost', sans-serif;\n",
    "        }\n",
    "        h1, h2, h3, h4, h5, h6, p, ol {\n",
    "            font-family: 'Jost', sans-serif;\n",
    "        }\n",
    "        h1{\n",
    "            color: orange;\n",
    "        }\n",
    "        h2 {\n",
    "            color: #8BC34A;\n",
    "        }\n",
    "        .center {\n",
    "            text-align: center;\n",
    "        }\n",
    "        table {\n",
    "            border-collapse: collapse;\n",
    "            margin: auto;\n",
    "        }\n",
    "        th, td {\n",
    "            border: 1px solid black;\n",
    "            padding: 10px;\n",
    "            text-align: center;\n",
    "        }\n",
    "        th {\n",
    "            background-color: #8BC34A;\n",
    "            color: white;\n",
    "        }\n",
    "        tr:nth-child(even) {\n",
    "            background-color: #f2f2f2;\n",
    "        }\n",
    "    </style>\n",
    "</head>\n",
    "\n",
    "<body>\n",
    "    <div class=\"center\">\n",
    "        <img src=\"Algorithms/Logo_for_all/logo_round.png\" alt=\"QHSO Logo\" width=\"100\">\n",
    "    </div>\n",
    "    <h1 style=\"text-align: center;\">The CX (CNOT) Gate: A Key Player in Quantum Computing</h1>\n",
    "    <p>In this notebook, we'll take a gentle and easy-to-understand journey into one of the most essential quantum gates: the CX gate, also known as the CNOT gate.</p>\n",
    "    <h2>What is the CX Gate?</h2>\n",
    "    <p>The CX gate is a building block of quantum circuits. It's like a special switch that can change the state of one qubit (quantum bit) based on the state of another qubit. We have two qubits involved: a control qubit and a target qubit.</p>\n",
    "    <ol>\n",
    "        <li><strong>Control Qubit</strong>: Think of this as the \"boss\" qubit.</li>\n",
    "        <br>\n",
    "        <br>\n",
    "            <div class=\"center\">\n",
    "                <img src=\"Cx-gate-animations/Cx.gif\" alt=\"CxGate\" width=\"600\">\n",
    "            </div>\n",
    "        <br>\n",
    "        <br>\n",
    "        <li><strong>Target Qubit</strong>: This is the \"follower\" qubit.</li>\n",
    "    </ol>\n",
    "    <h2>How Does the CX Gate Work?</h2>\n",
    "    <p>The CX gate works like this:</p>\n",
    "    <ol>\n",
    "        <li>If the control qubit is in the state |0⟩, it leaves the target qubit unchanged. It's like saying, \"Stay as you are.\"\n",
    "</li>\n",
    "        <br>\n",
    "        <br>\n",
    "            <div class=\"center\">\n",
    "                <img src=\"Cx-gate-animations/Cx0.gif\" alt=\"Cx0\" width=\"600\">\n",
    "            </div>\n",
    "        <br>\n",
    "        <br>\n",
    "        <li>If the control qubit is in the state |1⟩, it flips the target qubit's state. It's like saying, \"Change your state.\"</li>\n",
    "        <br>\n",
    "        <br>\n",
    "            <div class=\"center\">\n",
    "                <img src=\"Cx-gate-animations/Cx1.gif\" alt=\"Cx1\" width=\"600\">\n",
    "            </div>\n",
    "        <br>\n",
    "        <br>\n",
    "    </ol>\n",
    "    <p>So, the CX gate pays attention to the control qubit and acts accordingly.</p>\n",
    "    <h2>Let's Visualize with a Truth Table</h2>\n",
    "    <table>\n",
    "        <tr>\n",
    "            <th>Control Qubit</th>\n",
    "            <th>Target Qubit</th>\n",
    "            <th>Output</th>\n",
    "        </tr>\n",
    "        <tr>\n",
    "            <td>∣0⟩</td>\n",
    "            <td>∣0⟩</td>\n",
    "            <td>∣00⟩</td>\n",
    "        </tr>\n",
    "        <tr>\n",
    "            <td>∣0⟩</td>\n",
    "            <td>∣1⟩</td>\n",
    "            <td>∣01⟩</td>\n",
    "        </tr>\n",
    "        <tr>\n",
    "            <td>∣1⟩</td>\n",
    "            <td>∣0⟩</td>\n",
    "            <td>∣11⟩</td>\n",
    "        </tr>\n",
    "        <tr>\n",
    "            <td>∣1⟩</td>\n",
    "            <td>∣1⟩</td>\n",
    "            <td>∣10⟩</td>\n",
    "        </tr>\n",
    "    </table>\n",
    "    <h2>Here's what the truth table tells us:\n",
    "    </h2>\n",
    "    <ol><li>If the control qubit is in the state 0, nothing happens to the target qubit. It stays the same.</li><li>If the control qubit is in the state 1, the target qubit flips. If it was 0, it becomes 1, and if it was 1, it becomes 0.</li></ol>\n",
    "    <p>Let's see how the CNOT gate works in Qiskit.</p>\n",
    "</body>\n",
    "\n",
    "</html>"
   ]
  },
  {
   "cell_type": "markdown",
   "metadata": {},
   "source": [
    "1) we need to set up our quantum experiment. In this example, we'll use Qiskit to create a quantum circuit with two qubits: a control qubit and a target qubit. We'll also create a classical register with two bits to hold the measurement results."
   ]
  },
  {
   "cell_type": "code",
   "execution_count": 23,
   "metadata": {},
   "outputs": [],
   "source": [
    "# Import necessary libraries from Qiskit\n",
    "from qiskit import QuantumCircuit, Aer, execute\n",
    "from qiskit.visualization import plot_histogram\n",
    "\n",
    "# Create a quantum circuit with two qubits and two classical bits\n",
    "qc = QuantumCircuit(2, 2)"
   ]
  },
  {
   "cell_type": "markdown",
   "metadata": {},
   "source": [
    "2) Now, let's apply the CX gate to our quantum circuit. In Qiskit, we use the `cx` function to add the CX gate. The first qubit we specify is the control qubit, and the second qubit is the target qubit"
   ]
  },
  {
   "cell_type": "code",
   "execution_count": 24,
   "metadata": {},
   "outputs": [
    {
     "data": {
      "text/plain": [
       "<qiskit.circuit.instructionset.InstructionSet at 0x22b2002b0a0>"
      ]
     },
     "execution_count": 24,
     "metadata": {},
     "output_type": "execute_result"
    }
   ],
   "source": [
    "# Apply the CX gate with the first qubit as control and the second qubit as target\n",
    "qc.cx(0, 1)"
   ]
  },
  {
   "cell_type": "markdown",
   "metadata": {},
   "source": [
    "3) Now, let's measure the qubits. We'll use the `measure` function to do this. The first argument is the qubit we want to measure, and the second argument is the classical bit where we want to store the measurement result."
   ]
  },
  {
   "cell_type": "code",
   "execution_count": 25,
   "metadata": {},
   "outputs": [
    {
     "data": {
      "text/plain": [
       "<qiskit.circuit.instructionset.InstructionSet at 0x22b2002ae00>"
      ]
     },
     "execution_count": 25,
     "metadata": {},
     "output_type": "execute_result"
    }
   ],
   "source": [
    "qc.measure([0, 1], [0, 1])"
   ]
  },
  {
   "cell_type": "markdown",
   "metadata": {},
   "source": [
    "4) We can use Qiskit's visualization tools to do this."
   ]
  },
  {
   "cell_type": "code",
   "execution_count": 26,
   "metadata": {},
   "outputs": [
    {
     "data": {
      "image/png": "[encoded data removed]",
      "text/plain": [
       "<Figure size 370.906x284.278 with 1 Axes>"
      ]
     },
     "execution_count": 26,
     "metadata": {},
     "output_type": "execute_result"
    }
   ],
   "source": [
    "# Visualize the quantum circuit\n",
    "qc.draw('mpl')"
   ]
  },
  {
   "cell_type": "markdown",
   "metadata": {},
   "source": [
    "5) let's run our quantum circuit to see the result. We'll use Qiskit's simulator to simulate the quantum computation."
   ]
  },
  {
   "cell_type": "code",
   "execution_count": 27,
   "metadata": {},
   "outputs": [],
   "source": [
    "# Simulate the quantum circuit\n",
    "simulator = Aer.get_backend('qasm_simulator')\n",
    "result = execute(qc, simulator).result()\n",
    "\n",
    "# Get the measurement results\n",
    "counts = result.get_counts(qc)"
   ]
  },
  {
   "cell_type": "markdown",
   "metadata": {},
   "source": [
    "6) Let's see this with histograms."
   ]
  },
  {
   "cell_type": "code",
   "execution_count": 28,
   "metadata": {},
   "outputs": [
    {
     "data": {
      "image/png": "[encoded data removed]",
      "text/plain": [
       "<Figure size 700x500 with 1 Axes>"
      ]
     },
     "execution_count": 28,
     "metadata": {},
     "output_type": "execute_result"
    }
   ],
   "source": [
    "# Visualize the measurement results\n",
    "plot_histogram(counts)"
   ]
  },
  {
   "cell_type": "markdown",
   "metadata": {},
   "source": [
    "7) What happes if the target qubit is in the state |1⟩ by adding X gate to the target qubit? Let's see."
   ]
  },
  {
   "cell_type": "code",
   "execution_count": 29,
   "metadata": {},
   "outputs": [
    {
     "data": {
      "text/plain": [
       "<qiskit.circuit.instructionset.InstructionSet at 0x22b7fc084c0>"
      ]
     },
     "execution_count": 29,
     "metadata": {},
     "output_type": "execute_result"
    }
   ],
   "source": [
    "qc1 = QuantumCircuit(2, 2)\n",
    "qc1.x(1)\n",
    "qc1.cx(0, 1)\n",
    "qc1.measure([0, 1], [0, 1])"
   ]
  },
  {
   "cell_type": "markdown",
   "metadata": {},
   "source": [
    "8) draw the circuit"
   ]
  },
  {
   "cell_type": "code",
   "execution_count": 30,
   "metadata": {},
   "outputs": [
    {
     "data": {
      "image/png": "[encoded data removed]",
      "text/plain": [
       "<Figure size 454.517x284.278 with 1 Axes>"
      ]
     },
     "execution_count": 30,
     "metadata": {},
     "output_type": "execute_result"
    }
   ],
   "source": [
    "qc1.draw('mpl')"
   ]
  },
  {
   "cell_type": "markdown",
   "metadata": {},
   "source": [
    "9) let's run our quantum circuit to see the result. We'll use Qiskit's simulator to simulate the quantum computation."
   ]
  },
  {
   "cell_type": "code",
   "execution_count": 31,
   "metadata": {},
   "outputs": [],
   "source": [
    "# Simulate the quantum circuit\n",
    "simulator = Aer.get_backend('qasm_simulator')\n",
    "result = execute(qc1, simulator).result()\n",
    "\n",
    "# Get the measurement results\n",
    "counts = result.get_counts(qc1)"
   ]
  },
  {
   "cell_type": "markdown",
   "metadata": {},
   "source": [
    "10) Let's see this with histograms."
   ]
  },
  {
   "cell_type": "code",
   "execution_count": 32,
   "metadata": {},
   "outputs": [
    {
     "data": {
      "image/png": "[encoded data removed]",
      "text/plain": [
       "<Figure size 700x500 with 1 Axes>"
      ]
     },
     "execution_count": 32,
     "metadata": {},
     "output_type": "execute_result"
    }
   ],
   "source": [
    "# Visualize the measurement results\n",
    "plot_histogram(counts)"
   ]
  },
  {
   "cell_type": "markdown",
   "metadata": {},
   "source": [
    "Here we can see that the target qubit is the same. This is because the control qubit is in the state |0⟩, so the CX gate does nothing to the target qubit."
   ]
  },
  {
   "cell_type": "markdown",
   "metadata": {},
   "source": [
    "<!DOCTYPE html>\n",
    "<html>\n",
    "\n",
    "<head>\n",
    "    <link href=\"https://fonts.googleapis.com/css?family=Jost&display=swap\" rel=\"stylesheet\">\n",
    "    <style>\n",
    "        body {\n",
    "            font-family: 'Jost', sans-serif;\n",
    "        }\n",
    "        h1, h2, h3, h4, h5, h6, p, ol {\n",
    "            font-family: 'Jost', sans-serif;\n",
    "        }\n",
    "        h1{\n",
    "            color: orange;\n",
    "        }\n",
    "        h2 {\n",
    "            color: #8BC34A;\n",
    "        }\n",
    "        .center {\n",
    "            text-align: center;\n",
    "        }\n",
    "    </style>\n",
    "</head>\n",
    "\n",
    "<body>\n",
    "    <h2>Let's see what happens when we change the state of the control qubit. We'll set the control qubit to the state |1⟩</h2>\n",
    "    <p>We'll do this by adding an X gate to the control qubit.</p>\n",
    "</p>\n",
    "</body>\n",
    "\n",
    "</html>"
   ]
  },
  {
   "cell_type": "markdown",
   "metadata": {},
   "source": [
    "1) We add an X gate to the control qubit."
   ]
  },
  {
   "cell_type": "code",
   "execution_count": 33,
   "metadata": {},
   "outputs": [
    {
     "data": {
      "text/plain": [
       "<qiskit.circuit.instructionset.InstructionSet at 0x22b201ef6a0>"
      ]
     },
     "execution_count": 33,
     "metadata": {},
     "output_type": "execute_result"
    }
   ],
   "source": [
    "qc2 = QuantumCircuit(2, 2)\n",
    "qc2.x(0)\n",
    "qc2.cx(0, 1)\n",
    "qc2.measure([0, 1], [0, 1])"
   ]
  },
  {
   "cell_type": "markdown",
   "metadata": {},
   "source": [
    "2) draw the circuit"
   ]
  },
  {
   "cell_type": "code",
   "execution_count": 34,
   "metadata": {},
   "outputs": [
    {
     "data": {
      "image/png": "[encoded data removed]",
      "text/plain": [
       "<Figure size 454.517x284.278 with 1 Axes>"
      ]
     },
     "execution_count": 34,
     "metadata": {},
     "output_type": "execute_result"
    }
   ],
   "source": [
    "qc2.draw('mpl')"
   ]
  },
  {
   "cell_type": "markdown",
   "metadata": {},
   "source": [
    "4) let's run our quantum circuit to see the result. We'll use Qiskit's simulator to simulate the quantum computation."
   ]
  },
  {
   "cell_type": "code",
   "execution_count": 35,
   "metadata": {},
   "outputs": [],
   "source": [
    "# Simulate the quantum circuit\n",
    "simulator = Aer.get_backend('qasm_simulator')\n",
    "result = execute(qc2, simulator).result()\n",
    "\n",
    "# Get the measurement results\n",
    "counts = result.get_counts(qc2)"
   ]
  },
  {
   "cell_type": "markdown",
   "metadata": {},
   "source": [
    "5) Let's see this with histograms."
   ]
  },
  {
   "cell_type": "code",
   "execution_count": 36,
   "metadata": {},
   "outputs": [
    {
     "data": {
      "image/png": "[encoded data removed]",
      "text/plain": [
       "<Figure size 700x500 with 1 Axes>"
      ]
     },
     "execution_count": 36,
     "metadata": {},
     "output_type": "execute_result"
    }
   ],
   "source": [
    "# Visualize the measurement results\n",
    "plot_histogram(counts)"
   ]
  },
  {
   "cell_type": "markdown",
   "metadata": {},
   "source": [
    "See, the target qubit flipped! This is because the control qubit is in the state |1⟩, so the CX gate flips the target qubit. If the target qubit was in the state |0⟩, it becomes |1⟩, and if it was in the state |1⟩, it becomes |0⟩. This is what we saw in the truth table. The CX gate pays attention to the control qubit and acts accordingly. It's like a switch that can change the state of one qubit based on the state of another qubit. This is why the CX gate is also called the CNOT gate. It's like a controlled NOT gate."
   ]
  },
  {
   "cell_type": "markdown",
   "metadata": {},
   "source": [
    "<!DOCTYPE html>\n",
    "<html>\n",
    "\n",
    "<head>\n",
    "    <link href=\"https://fonts.googleapis.com/css?family=Jost&display=swap\" rel=\"stylesheet\">\n",
    "    <style>\n",
    "        body {\n",
    "            font-family: 'Jost', sans-serif;\n",
    "        }\n",
    "        h1, h2, h3, h4, h5, h6, p, ol {\n",
    "            font-family: 'Jost', sans-serif;\n",
    "        }\n",
    "        h1{\n",
    "            color: orange;\n",
    "        }\n",
    "        h2 {\n",
    "            color: #8BC34A;\n",
    "        }\n",
    "        .center {\n",
    "            text-align: center;\n",
    "        }\n",
    "    </style>\n",
    "</head>\n",
    "\n",
    "<body>\n",
    "    <h2>Try it yourself!</h2>\n",
    "    <p>Do the same thing we did above, but this time, set the target qubit to the state |1⟩. What do you expect to see? What do you actually see? Why do you think this happens?</p> \n",
    "</p>\n",
    "</body>\n",
    "\n",
    "</html>"
   ]
  },
  {
   "cell_type": "markdown",
   "metadata": {},
   "source": [
    "<!DOCTYPE html>\n",
    "<html>\n",
    "\n",
    "<head>\n",
    "    <link href=\"https://fonts.googleapis.com/css?family=Jost&display=swap\" rel=\"stylesheet\">\n",
    "    <style>\n",
    "        body {\n",
    "            font-family: 'Jost', sans-serif;\n",
    "        }\n",
    "        h1, h2, h3, h4, h5, h6, p, ol {\n",
    "            font-family: 'Jost', sans-serif;\n",
    "        }\n",
    "        h1{\n",
    "            color: orange;\n",
    "        }\n",
    "        h2 {\n",
    "            color: #8BC34A;\n",
    "        }\n",
    "        .center {\n",
    "            text-align: center;\n",
    "        }\n",
    "    </style>\n",
    "</head>\n",
    "\n",
    "<body>\n",
    "    <h2>Let's do something crazy with H gate and CX gate</h2>\n",
    "    <p> Till now we have seen that the CX gate flips the target qubit if the control qubit is in the state |1⟩. But the control qubit didn't change because of the target qubit. Here target qubit didn't effect the control qubit. But what if we do something crazy which will change the state of the control qubit?!</p>\n",
    "</p>\n",
    "</body>\n",
    "\n",
    "</html>"
   ]
  },
  {
   "cell_type": "markdown",
   "metadata": {},
   "source": [
    "1) We add X gate to the target qubit."
   ]
  },
  {
   "cell_type": "code",
   "execution_count": 37,
   "metadata": {},
   "outputs": [
    {
     "data": {
      "text/plain": [
       "<qiskit.circuit.instructionset.InstructionSet at 0x22b201ef8b0>"
      ]
     },
     "execution_count": 37,
     "metadata": {},
     "output_type": "execute_result"
    }
   ],
   "source": [
    "magical_circuit = QuantumCircuit(2, 2)\n",
    "magical_circuit.x(1)\n",
    "magical_circuit.barrier()"
   ]
  },
  {
   "cell_type": "markdown",
   "metadata": {},
   "source": [
    "2) We add H gate in both qubits."
   ]
  },
  {
   "cell_type": "code",
   "execution_count": 38,
   "metadata": {},
   "outputs": [
    {
     "data": {
      "text/plain": [
       "<qiskit.circuit.instructionset.InstructionSet at 0x22b201eea40>"
      ]
     },
     "execution_count": 38,
     "metadata": {},
     "output_type": "execute_result"
    }
   ],
   "source": [
    "magical_circuit.h(0)\n",
    "magical_circuit.h(1)"
   ]
  },
  {
   "cell_type": "markdown",
   "metadata": {},
   "source": [
    "3) We add CX gate to the control qubit and target qubit."
   ]
  },
  {
   "cell_type": "code",
   "execution_count": 39,
   "metadata": {},
   "outputs": [
    {
     "data": {
      "text/plain": [
       "<qiskit.circuit.instructionset.InstructionSet at 0x22b201eff70>"
      ]
     },
     "execution_count": 39,
     "metadata": {},
     "output_type": "execute_result"
    }
   ],
   "source": [
    "magical_circuit.cx(0, 1)"
   ]
  },
  {
   "cell_type": "markdown",
   "metadata": {},
   "source": [
    "4) We add H gate in both qubits again."
   ]
  },
  {
   "cell_type": "code",
   "execution_count": 40,
   "metadata": {},
   "outputs": [
    {
     "data": {
      "text/plain": [
       "<qiskit.circuit.instructionset.InstructionSet at 0x22b201ef9a0>"
      ]
     },
     "execution_count": 40,
     "metadata": {},
     "output_type": "execute_result"
    }
   ],
   "source": [
    "magical_circuit.h(0)\n",
    "magical_circuit.h(1)\n",
    "magical_circuit.barrier()"
   ]
  },
  {
   "cell_type": "markdown",
   "metadata": {},
   "source": [
    "5) We measure the qubits."
   ]
  },
  {
   "cell_type": "code",
   "execution_count": 41,
   "metadata": {},
   "outputs": [
    {
     "data": {
      "text/plain": [
       "<qiskit.circuit.instructionset.InstructionSet at 0x22b201ef730>"
      ]
     },
     "execution_count": 41,
     "metadata": {},
     "output_type": "execute_result"
    }
   ],
   "source": [
    "magical_circuit.measure([0, 1], [0, 1])"
   ]
  },
  {
   "cell_type": "markdown",
   "metadata": {},
   "source": [
    "6) We draw the circuit"
   ]
  },
  {
   "cell_type": "code",
   "execution_count": 42,
   "metadata": {},
   "outputs": [
    {
     "data": {
      "image/png": "[encoded data removed]",
      "text/plain": [
       "<Figure size 788.961x284.278 with 1 Axes>"
      ]
     },
     "execution_count": 42,
     "metadata": {},
     "output_type": "execute_result"
    }
   ],
   "source": [
    "magical_circuit.draw('mpl')"
   ]
  },
  {
   "cell_type": "markdown",
   "metadata": {},
   "source": [
    "7) Let's run our quantum circuit to see the result. We'll use Qiskit's simulator to simulate the quantum computation."
   ]
  },
  {
   "cell_type": "code",
   "execution_count": 43,
   "metadata": {},
   "outputs": [],
   "source": [
    "simulator = Aer.get_backend('qasm_simulator')\n",
    "result = execute(magical_circuit, simulator).result()\n",
    "counts = result.get_counts(magical_circuit)"
   ]
  },
  {
   "cell_type": "markdown",
   "metadata": {},
   "source": [
    "8) Let's see this with histograms."
   ]
  },
  {
   "cell_type": "code",
   "execution_count": 44,
   "metadata": {},
   "outputs": [
    {
     "data": {
      "image/png": "[encoded data removed]",
      "text/plain": [
       "<Figure size 700x500 with 1 Axes>"
      ]
     },
     "execution_count": 44,
     "metadata": {},
     "output_type": "execute_result"
    }
   ],
   "source": [
    "plot_histogram(counts)"
   ]
  },
  {
   "cell_type": "markdown",
   "metadata": {},
   "source": [
    "See, the control qubit flipped! This is because the target qubit is in the state |1⟩, so the CX gate flips the control qubit. If the control qubit was in the state |0⟩, it becomes |1⟩, and if it was in the state |1⟩, it becomes |0⟩. This is because of the h gate in both qubits."
   ]
  },
  {
   "cell_type": "markdown",
   "metadata": {},
   "source": [
    "<!DOCTYPE html>\n",
    "<html>\n",
    "\n",
    "<head>\n",
    "    <link href=\"https://fonts.googleapis.com/css?family=Jost&display=swap\" rel=\"stylesheet\">\n",
    "    <style>\n",
    "        body {\n",
    "            font-family: 'Jost', sans-serif;\n",
    "        }\n",
    "        h1, h2, h3, h4, h5, h6, p, ol {\n",
    "            font-family: 'Jost', sans-serif;\n",
    "        }\n",
    "        h1{\n",
    "            color: orange;\n",
    "        }\n",
    "        h2 {\n",
    "            color: #8BC34A;\n",
    "        }\n",
    "        .center {\n",
    "            text-align: center;\n",
    "        }\n",
    "    </style>\n",
    "</head>\n",
    "\n",
    "<body>\n",
    "    <h2>But why?</h2>\n",
    "    <br>\n",
    "        <br>\n",
    "            <div class=\"center\">\n",
    "                <img src=\"Cx-gate-animations/Cxh.gif\" alt=\"CxhGate\" width=\"600\">\n",
    "            </div>\n",
    "        <br>\n",
    "        <br>\n",
    "    <p>We won't delve into the mathematical intricacies, but observing the animation, we notice that the H gate induces a superposition state on both qubits. Now, within the CX gate, the presence of the |-⟩ state influences the |+⟩ state, transforming it into |-⟩. When we apply the H gate once more, it alters these states to become |1⟩. Thus, the target qubit's behavior impacts the control qubit's transformation. While it may appear intricate initially, examining the animation and pondering it can aid in grasping the concept.</p>\n",
    "</p>\n",
    "</body>\n",
    "\n",
    "</html>"
   ]
  },
  {
   "cell_type": "markdown",
   "metadata": {},
   "source": [
    "<!DOCTYPE html>\n",
    "<html>\n",
    "\n",
    "<head>\n",
    "    <link href=\"https://fonts.googleapis.com/css?family=Jost&display=swap\" rel=\"stylesheet\">\n",
    "    <style>\n",
    "        body {\n",
    "            font-family: 'Jost', sans-serif;\n",
    "        }\n",
    "        h1, h2, h3, h4, h5, h6, p, ol {\n",
    "            font-family: 'Jost', sans-serif;\n",
    "        }\n",
    "        h1{\n",
    "            color: orange;\n",
    "        }\n",
    "        h2 {\n",
    "            color: #8BC34A;\n",
    "        }\n",
    "        .center {\n",
    "            text-align: center;\n",
    "        }\n",
    "    </style>\n",
    "</head>\n",
    "\n",
    "<body>\n",
    "    <h2>Why It's Awesome</h2>\n",
    "    <p>The CX gate is magical because it lets us create something called \"entanglement.\" When we use CX gates in clever ways, we can make qubits become mysteriously connected to each other, no matter how far apart they are. This property is incredibly powerful for quantum computing. CX gates are like the building blocks of quantum circuits. We use them to build amazing quantum algorithms that can solve problems faster than classical computers.\n",
    "</p>\n",
    "</body>\n",
    "\n",
    "</html>"
   ]
  },
  {
   "cell_type": "markdown",
   "metadata": {},
   "source": [
    "<!DOCTYPE html>\n",
    "<html>\n",
    "\n",
    "<head>\n",
    "    <link href=\"https://fonts.googleapis.com/css?family=Jost&display=swap\" rel=\"stylesheet\">\n",
    "    <style>\n",
    "        body {\n",
    "            font-family: 'Jost', sans-serif;\n",
    "        }\n",
    "        h1, h2, h3, h4, h5, h6, p, ol {\n",
    "            font-family: 'Jost', sans-serif;\n",
    "        }\n",
    "        h1{\n",
    "            color: orange;\n",
    "        }\n",
    "        h2 {\n",
    "            color: #8BC34A;\n",
    "        }\n",
    "        .center {\n",
    "            text-align: center;\n",
    "        }\n",
    "        /* Define the button styles */\n",
    "        .button {\n",
    "            background-color: #4CAF50; /* Green */\n",
    "            border: none;\n",
    "            color: white;\n",
    "            padding: 15px 32px;\n",
    "            text-align: center;\n",
    "            text-decoration: none;\n",
    "            display: inline-block;\n",
    "            font-size: 16px;\n",
    "            margin: 4px auto; /* Center the button horizontally */\n",
    "            cursor: pointer;\n",
    "            transition-duration: 0.4s;\n",
    "            border-radius: 10px; /* Add rounded corners */\n",
    "            box-shadow: 0 5px #666; /* Add a shadow */\n",
    "        }\n",
    "        /* Define the hover effect */\n",
    "        .button:hover {\n",
    "            background-color: #008CBA; /* Blue */\n",
    "            color: white;\n",
    "        }\n",
    "        /* Define the active effect */\n",
    "        .button:active {\n",
    "            background-color: #3e8e41; /* Dark green */\n",
    "            box-shadow: 0 2px #666; /* Change the shadow */\n",
    "            transform: translateY(4px);\n",
    "        }\n",
    "    </style>\n",
    "</head>\n",
    "\n",
    "<body>\n",
    "    <h2>What's next?</h2>\n",
    "    <p>Congratulations 🎉🎊! You've just embarked on your quantum journey by exploring the CX gate and its fascinating properties. As you continue your adventure in the world of quantum computing, get ready to delve into another exciting realm: rotation gates.</p>\n",
    "    <p>Click the button below</p>\n",
    "    <div class=\"center\"> <!-- Center the button vertically -->\n",
    "        <!-- Create the button element -->\n",
    "        <a href = \"Rotation_gates.ipynb\"><button class=\"button\">Rotation Gates</button></a>\n",
    "    </div>\n",
    "</body>\n",
    "\n",
    "</html>"
   ]
  },
  {
   "cell_type": "markdown",
   "metadata": {},
   "source": [
    "<!DOCTYPE html>\n",
    "<html>\n",
    "\n",
    "<head>\n",
    "    <link href=\"https://fonts.googleapis.com/css?family=Jost&display=swap\" rel=\"stylesheet\">\n",
    "    <style>\n",
    "        body {\n",
    "            font-family: 'Jost', sans-serif;\n",
    "        }\n",
    "        .created-by {\n",
    "         font-family: 'Jost', sans-serif;\n",
    "         text-align: center;\n",
    "         margin-top: 50px;\n",
    "        }\n",
    "        .created-by a {\n",
    "            color: #fff;\n",
    "            text-decoration: none;\n",
    "        }\n",
    "        .created-by a:hover {\n",
    "            color: #8BC34A;\n",
    "        }\n",
    "    </style>\n",
    "</head>\n",
    "\n",
    "<body>\n",
    "    <div class=\"created-by\">\n",
    "        Created by <a href=\"https://www.linkedin.com/in/abdullah-al-omar-galib-30b6b1258\">Abdullah Al Omar Galib (Ahkatlio)</a>\n",
    "    </div>\n",
    "</body>\n",
    "\n",
    "</html>"
   ]
  }
 ],
 "metadata": {
  "kernelspec": {
   "display_name": "Python 3",
   "language": "python",
   "name": "python3"
  },
  "language_info": {
   "codemirror_mode": {
    "name": "ipython",
    "version": 3
   },
   "file_extension": ".py",
   "mimetype": "text/x-python",
   "name": "python",
   "nbconvert_exporter": "python",
   "pygments_lexer": "ipython3",
   "version": "3.11.4"
  },
  "orig_nbformat": 4
 },
 "nbformat": 4,
 "nbformat_minor": 2
}
