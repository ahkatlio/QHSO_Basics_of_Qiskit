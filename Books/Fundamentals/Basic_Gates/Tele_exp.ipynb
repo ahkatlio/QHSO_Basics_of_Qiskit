{
 "cells": [
  {
   "cell_type": "markdown",
   "metadata": {},
   "source": [
    "<!DOCTYPE html>\n",
    "<html>\n",
    "\n",
    "<head>\n",
    "    <link href=\"https://fonts.googleapis.com/css?family=Jost&display=swap\" rel=\"stylesheet\">\n",
    "    <style>\n",
    "        body {\n",
    "            font-family: 'Jost', sans-serif;\n",
    "        }\n",
    "        .created-by {\n",
    "         font-family: 'Jost', sans-serif;\n",
    "         text-align: center;\n",
    "         margin-top: 50px;\n",
    "        }\n",
    "        .created-by a {\n",
    "            color: #fff;\n",
    "            text-decoration: none;\n",
    "        }\n",
    "        .created-by a:hover {\n",
    "            color: #8BC34A;\n",
    "        }\n",
    "    </style>\n",
    "</head>\n",
    "\n",
    "<body>\n",
    "    <div class=\"created-by\">\n",
    "        Created by <a href=\"https://www.linkedin.com/in/abdullah-al-omar-galib-30b6b1258\">Abdullah Al Omar Galib (Ahkatlio)</a>\n",
    "    </div>\n",
    "</body>\n",
    "\n",
    "</html>"
   ]
  }
 ],
 "metadata": {
  "language_info": {
   "name": "python"
  },
  "orig_nbformat": 4
 },
 "nbformat": 4,
 "nbformat_minor": 2
}
