{
 "cells": [
  {
   "cell_type": "markdown",
   "metadata": {},
   "source": [
    "<!DOCTYPE html>\n",
    "<html>\n",
    "\n",
    "<head>\n",
    "    <title>Teleportation</title>\n",
    "    <link href=\"https://fonts.googleapis.com/css?family=Jost&display=swap\" rel=\"stylesheet\">\n",
    "    <style>\n",
    "        body {\n",
    "            font-family: 'Jost', sans-serif;\n",
    "        }\n",
    "        h1, h2, h3, h4, h5, h6, p, ul {\n",
    "            font-family: 'Jost', sans-serif;\n",
    "        }\n",
    "        h1{\n",
    "            color: orange;\n",
    "        }\n",
    "        h2 {\n",
    "            color: #8BC34A;\n",
    "        }\n",
    "        .center {\n",
    "            text-align: center;\n",
    "        }\n",
    "    </style>\n",
    "</head>\n",
    "\n",
    "<body>\n",
    "    <div class=\"center\">\n",
    "        <img src=\"Logo_for_all/logo_round.png\" alt=\"QHSO Logo\" width=\"100\">\n",
    "    </div>\n",
    "    <h1 style=\"text-align: center;\">Quantum Teleportation: Sending Quantum Secrets</h1>\n",
    "    <p>Welcome to the fascinating world of quantum teleportation! In this notebook, we're going to embark on an incredible journey where we'll learn how to teleport quantum information from one place to another using the magic of quantum entanglement. Get ready for an adventure like no other! And we will also run our circuit to a real IBM Quantum Computer</p>\n",
    "    <h2>What is Quantum Teleportation?</h2>\n",
    "    <p>Imagine being able to send a quantum state (a qubit) to your friend, instantly! That's what quantum teleportation allows us to do. It's like teleporting in your favorite sci-fi movies, but with quantum information. <br>Here's the catch: we can't just copy and paste quantum states like regular information. Instead, we use a combination of three qubits and some quantum trickery to send the information securely.</p>\n",
    "    <h2>Let's build a teleportation circuit!</h2>\n",
    "    <p>Let's create a teleportation circuit. We will expalin every steps in details  and finally we will run it in a real-life quantum computer. For this we have to create a quantum circuit with three qubits and three classic bits. The reason we need three qubits is that, one to represent the state and two that we will entangle and share with O'Neal and Jaya:</p>\n",
    "</body>\n",
    "\n",
    "</html>"
   ]
  },
  {
   "cell_type": "markdown",
   "metadata": {},
   "source": [
    "1) We import the necessary libraries and create a quantum circuit with three qubits and three classical bits."
   ]
  },
  {
   "cell_type": "code",
   "execution_count": 33,
   "metadata": {},
   "outputs": [],
   "source": [
    "from qiskit import QuantumCircuit, QuantumRegister, ClassicalRegister, execute, Aer\n",
    "from qiskit.visualization import plot_state_qsphere, plot_histogram\n",
    "\n",
    "# We create a Quantum Register with 3 qubits.\n",
    "q = QuantumRegister(3, 'qubit')\n",
    "\n",
    "# We create a Classical Register with 3 bits.\n",
    "c = ClassicalRegister(3, 'Classical bit')\n",
    "\n",
    "# We create a Quantum Circuit\n",
    "qc = QuantumCircuit(q, c)\n"
   ]
  },
  {
   "cell_type": "markdown",
   "metadata": {},
   "source": [
    "The first qubit is the message qubit that O'Neal wants to send to Jaya. The second and third qubits are the entangled pair of qubits that O'Neal sends to Jaya. The classical bits are used to communicate two classical bits of information from O'Neal to Jaya."
   ]
  },
  {
   "cell_type": "markdown",
   "metadata": {},
   "source": [
    "2) Let's create the message that O'Neal wants to send to Jaya. It is unknown to both O'Neal and Jaya. Only we will know because we are the creators of this message. We will create a random state using the following code:"
   ]
  },
  {
   "cell_type": "code",
   "execution_count": 34,
   "metadata": {},
   "outputs": [
    {
     "data": {
      "text/plain": [
       "<qiskit.circuit.instructionset.InstructionSet at 0x218bc137be0>"
      ]
     },
     "execution_count": 34,
     "metadata": {},
     "output_type": "execute_result"
    }
   ],
   "source": [
    "# We add x gate to the first qubit\n",
    "qc.x(q[0])\n",
    "qc.barrier()"
   ]
  },
  {
   "cell_type": "markdown",
   "metadata": {},
   "source": [
    "3) We will now create an entangled pair of qubits that O'Neal will send to Jaya. We will use the following code to create the entangled pair:"
   ]
  },
  {
   "cell_type": "code",
   "execution_count": 35,
   "metadata": {},
   "outputs": [
    {
     "data": {
      "text/plain": [
       "<qiskit.circuit.instructionset.InstructionSet at 0x218bc137850>"
      ]
     },
     "execution_count": 35,
     "metadata": {},
     "output_type": "execute_result"
    }
   ],
   "source": [
    "qc.h(q[1])\n",
    "qc.cx(q[1], q[2])\n",
    "qc.barrier()"
   ]
  },
  {
   "cell_type": "markdown",
   "metadata": {},
   "source": [
    "O'Neal will keep one qubit[1] and send other qubit[2] to Jaya. To entangle the two qubits, we apply a h gate to O'Neal's qubit, qubit[1]. After that we apply cx gate, where the control is connected to O'Neal's qubit and the target is connected to jaya's qubit."
   ]
  },
  {
   "cell_type": "markdown",
   "metadata": {},
   "source": [
    "4) Now, we will entangle the O'Neal's qubit with the qubit that has the encrypted messages (state). Then we add h gate prior to measuring both message contained qubit and O'Neal's entangled qubit.  "
   ]
  },
  {
   "cell_type": "code",
   "execution_count": 36,
   "metadata": {},
   "outputs": [
    {
     "data": {
      "text/plain": [
       "<qiskit.circuit.instructionset.InstructionSet at 0x218bc136f80>"
      ]
     },
     "execution_count": 36,
     "metadata": {},
     "output_type": "execute_result"
    }
   ],
   "source": [
    "qc.cx(q[0], q[1])\n",
    "qc.h(0)\n",
    "qc.barrier()\n",
    "qc.measure(0,0)\n",
    "qc.measure(1,1)\n",
    "qc.barrier()"
   ]
  },
  {
   "cell_type": "markdown",
   "metadata": {},
   "source": [
    "5) Now, O'Neal calls Jaya telling him that he has sent two qubits to him. One of them is the message qubit and the other is the entangled qubit. O'Neal also tells Jaya the two classical bits that he got from measuring the two qubits. Jaya then applies the following gates depending on the values of the classical bits:"
   ]
  },
  {
   "cell_type": "code",
   "execution_count": 37,
   "metadata": {},
   "outputs": [
    {
     "data": {
      "text/plain": [
       "<qiskit.circuit.instructionset.InstructionSet at 0x218bc137610>"
      ]
     },
     "execution_count": 37,
     "metadata": {},
     "output_type": "execute_result"
    }
   ],
   "source": [
    "from math import pi\n",
    "qc.crx(pi, q[1], q[2]).c_if(c, 1)\n",
    "qc.crz(pi, q[0], q[2]).c_if(c, 1)"
   ]
  },
  {
   "cell_type": "markdown",
   "metadata": {},
   "source": [
    "The first line of code applies a controlled-`X` gate (also known as a `CNOT` gate) with a rotation angle of `pi` to qubits `q[1]` and `q[2]`, conditioned on the value of the classical bit `c` being equal to 1. The controlled-`X` gate flips the second qubit (`q[2]`) if the first qubit (`q[1]`) is in the state `|1⟩`, and leaves it unchanged if the first qubit is in the state `|0⟩`.\n",
    "\n",
    "The second line of code applies a controlled-`Z` gate with a rotation angle of `pi` to qubits `q[0]` and `q[2]`, conditioned on the value of the classical bit `c` being equal to 1. The controlled-`Z` gate flips the phase of the second qubit (`q[2]`) if the first qubit (`q[0]`) is in the state `|1⟩`, and leaves it unchanged if the first qubit is in the state `|0⟩`."
   ]
  },
  {
   "cell_type": "markdown",
   "metadata": {},
   "source": [
    "6) Let's draw the circuit to see what it looks like:"
   ]
  },
  {
   "cell_type": "code",
   "execution_count": 38,
   "metadata": {},
   "outputs": [
    {
     "data": {
      "image/png": "[encoded data removed]",
      "text/plain": [
       "<Figure size 1343.81x367.889 with 1 Axes>"
      ]
     },
     "execution_count": 38,
     "metadata": {},
     "output_type": "execute_result"
    }
   ],
   "source": [
    "qc.draw(output='mpl')"
   ]
  },
  {
   "cell_type": "markdown",
   "metadata": {},
   "source": [
    "Here Jaya applies controled rotation x gate, where the control is connected to the entangled qubit and the target is connected to the Jaya's qubit. If the classical bit 1 is 1, then it rotates the qubit by 180 degrees. He also applies controled rotation z gate, where the control is connected to the message qubit and the target is connected to the Jaya's qubit. If the classical bit 2 is 1, then it rotates the qubit by 180 degrees. Because of the rotation, the state of the qubit is now the same as the original state that O'Neal wanted to send to Jaya."
   ]
  },
  {
   "cell_type": "markdown",
   "metadata": {},
   "source": [
    "7) Let's see the result of the circuit:"
   ]
  },
  {
   "cell_type": "code",
   "execution_count": 39,
   "metadata": {},
   "outputs": [
    {
     "data": {
      "image/png": "[encoded data removed]",
      "text/plain": [
       "<Figure size 700x700 with 2 Axes>"
      ]
     },
     "execution_count": 39,
     "metadata": {},
     "output_type": "execute_result"
    }
   ],
   "source": [
    "# We execute the quantum circuit on a statevector simulator backend\n",
    "backend = Aer.get_backend('statevector_simulator')\n",
    "result = execute(qc, backend).result()\n",
    "statevector = result.get_statevector(qc)\n",
    "plot_state_qsphere(statevector, show_state_phases = True, use_degrees = True)"
   ]
  },
  {
   "cell_type": "markdown",
   "metadata": {},
   "source": [
    "Here we can see that the state of the qubit is the same as the original state that O'Neal wanted to send to Jaya."
   ]
  },
  {
   "cell_type": "markdown",
   "metadata": {},
   "source": [
    "<!DOCTYPE html>\n",
    "<html>\n",
    "\n",
    "<head>\n",
    "    <link href=\"https://fonts.googleapis.com/css?family=Jost&display=swap\" rel=\"stylesheet\">\n",
    "    <style>\n",
    "        body {\n",
    "            font-family: 'Jost', sans-serif;\n",
    "        }\n",
    "        h1, h2, h3, h4, h5, h6, p, ol {\n",
    "            font-family: 'Jost', sans-serif;\n",
    "        }\n",
    "        h1{\n",
    "            color: orange;\n",
    "        }\n",
    "        h2 {\n",
    "            color: #8BC34A;\n",
    "        }\n",
    "        .center {\n",
    "            text-align: center;\n",
    "        }\n",
    "    </style>\n",
    "</head>\n",
    "\n",
    "<body>\n",
    "    <h2>Let's run this circuit on a real life quantum computer</h2>\n",
    "</body>\n",
    "\n",
    "</html>"
   ]
  },
  {
   "cell_type": "markdown",
   "metadata": {},
   "source": [
    "1) First, we need to import the necessary libraries and use the IBMQ account to run the circuit on a real quantum computer."
   ]
  },
  {
   "cell_type": "code",
   "execution_count": 40,
   "metadata": {},
   "outputs": [],
   "source": [
    "from qiskit import IBMQ\n",
    "from qiskit.providers.ibmq import least_busy\n",
    "\n",
    "# Replace 'MY_API_TOKEN' with your actual API token\n",
    "IBMQ.save_account('API_TOKEN', overwrite=True)\n"
   ]
  },
  {
   "cell_type": "markdown",
   "metadata": {},
   "source": [
    "![Logo_for_all/logo_round.png](IBM_TOKEN_IMG/IBM.png)"
   ]
  },
  {
   "cell_type": "markdown",
   "metadata": {},
   "source": [
    "2) Let's get a list of all the available backends on IBMQ and choose the least busy one."
   ]
  },
  {
   "cell_type": "code",
   "execution_count": 41,
   "metadata": {},
   "outputs": [
    {
     "name": "stdout",
     "output_type": "stream",
     "text": [
      "Least busy backend: ibmq_belem\n"
     ]
    }
   ],
   "source": [
    "# We get the least busy IBM Quantum device\n",
    "provider = IBMQ.get_provider(hub='ibm-q')\n",
    "backend = least_busy(provider.backends(filters=lambda x: x.configuration().n_qubits >= 3 and not x.configuration().simulator and x.status().operational==True))\n",
    "\n",
    "# We print the name of the least busy backend\n",
    "print(\"Least busy backend:\", backend.name())"
   ]
  },
  {
   "cell_type": "markdown",
   "metadata": {},
   "source": [
    "3) We will now run the circuit on the least busy backend. We will use the following code to run the circuit:"
   ]
  },
  {
   "cell_type": "code",
   "execution_count": null,
   "metadata": {},
   "outputs": [],
   "source": [
    "import time\n",
    "from qiskit.tools.monitor import job_monitor\n",
    "\n",
    "# We execute the circuit on the least busy backend. Monitor the execution of the job in the queue\n",
    "backend = provider.get_backend('ibmq_belem')\n",
    "\n",
    "# We execute the circuit on the backend\n",
    "start_time = time.time()\n",
    "job_exp = execute(qc, backend=backend, shots=1024)\n",
    "job_monitor(job_exp, interval=2)\n",
    "result_exp = job_exp.result()\n",
    "counts_exp = result_exp.get_counts(qc)\n",
    "end_time = time.time()"
   ]
  },
  {
   "cell_type": "markdown",
   "metadata": {},
   "source": [
    "4) Let's see the results and the time it took to run the code:"
   ]
  },
  {
   "cell_type": "code",
   "execution_count": null,
   "metadata": {},
   "outputs": [],
   "source": [
    "# We calculate the time taken in minutes and seconds\n",
    "time_taken = end_time - start_time\n",
    "minutes, seconds = divmod(time_taken, 60)\n",
    "\n",
    "# We print the results and the time it took to run the code\n",
    "print(\"Counts:\", counts_exp)\n",
    "print(\"Time taken: {} minutes and {:.2f} seconds\".format(int(minutes), seconds))"
   ]
  },
  {
   "cell_type": "markdown",
   "metadata": {},
   "source": [
    "5) Let's see the results in a histogram:"
   ]
  },
  {
   "cell_type": "code",
   "execution_count": null,
   "metadata": {},
   "outputs": [],
   "source": [
    "plot_histogram(counts_exp)"
   ]
  },
  {
   "cell_type": "markdown",
   "metadata": {},
   "source": [
    "<!DOCTYPE html>\n",
    "<html>\n",
    "\n",
    "<head>\n",
    "    <link href=\"https://fonts.googleapis.com/css?family=Jost&display=swap\" rel=\"stylesheet\">\n",
    "    <style>\n",
    "        body {\n",
    "            font-family: 'Jost', sans-serif;\n",
    "        }\n",
    "        h1, h2, h3, h4, h5, h6, p, ol {\n",
    "            font-family: 'Jost', sans-serif;\n",
    "        }\n",
    "        h1{\n",
    "            color: orange;\n",
    "        }\n",
    "        h2 {\n",
    "            color: #8BC34A;\n",
    "        }\n",
    "        .center {\n",
    "            text-align: center;\n",
    "        }\n",
    "    </style>\n",
    "</head>\n",
    "\n",
    "<body>\n",
    "    <h2>Applications of Quantum Teleportation</h2>\n",
    "    <p>Quantum teleportation isn't just a fascinating concept; it has practical applications:</p>\n",
    "    <ol>\n",
    "        <li><strong>Secure Communication:</strong> It ensures that quantum information is sent securely without being intercepted.</li>\n",
    "        <li><strong>Quantum Internet:</strong> Quantum teleportation is a building block for future quantum internet technologies.</li>\n",
    "        <li><strong>Quantum Cryptography:</strong> It can be used in quantum encryption, making communications ultra-secure.</li>\n",
    "    </ol>\n",
    "</body>\n",
    "\n",
    "</html>"
   ]
  },
  {
   "cell_type": "markdown",
   "metadata": {},
   "source": [
    "<!DOCTYPE html>\n",
    "<html>\n",
    "\n",
    "<head>\n",
    "    <link href=\"https://fonts.googleapis.com/css?family=Jost&display=swap\" rel=\"stylesheet\">\n",
    "    <style>\n",
    "        body {\n",
    "            font-family: 'Jost', sans-serif;\n",
    "        }\n",
    "        h1, h2, h3, h4, h5, h6, p, ol {\n",
    "            font-family: 'Jost', sans-serif;\n",
    "        }\n",
    "        h1{\n",
    "            color: orange;\n",
    "        }\n",
    "        h2 {\n",
    "            color: #8BC34A;\n",
    "        }\n",
    "        .center {\n",
    "            text-align: center;\n",
    "        }\n",
    "        /* Define the button styles */\n",
    "        .button {\n",
    "            background-color: #4CAF50; /* Green */\n",
    "            border: none;\n",
    "            color: white;\n",
    "            padding: 15px 32px;\n",
    "            text-align: center;\n",
    "            text-decoration: none;\n",
    "            display: inline-block;\n",
    "            font-size: 16px;\n",
    "            margin: 4px auto; /* Center the button horizontally */\n",
    "            cursor: pointer;\n",
    "            transition-duration: 0.4s;\n",
    "            border-radius: 10px; /* Add rounded corners */\n",
    "            box-shadow: 0 5px #666; /* Add a shadow */\n",
    "        }\n",
    "        /* Define the hover effect */\n",
    "        .button:hover {\n",
    "            background-color: #008CBA; /* Blue */\n",
    "            color: white;\n",
    "        }\n",
    "        /* Define the active effect */\n",
    "        .button:active {\n",
    "            background-color: #3e8e41; /* Dark green */\n",
    "            box-shadow: 0 2px #666; /* Change the shadow */\n",
    "            transform: translateY(4px);\n",
    "        }\n",
    "    </style>\n",
    "</head>\n",
    "\n",
    "<body>\n",
    "    <h2>What's next?</h2>\n",
    "    <p>Up until now, we've explored the incredible world of quantum teleportation, where we've witnessed the transfer of quantum information across space using the magic of entanglement and quantum measurements. This concept has far-reaching implications in secure communication and quantum networking.<br> Now, it's time to shift our focus from quantum communication to quantum computation. We're about to dive into an algorithm that showcases the true power of quantum computers—the Bernstein-Vazirani (BV) algorithm.<br> While quantum teleportation deals with transmitting quantum states, the BV algorithm revolves around solving a specific type of problem faster than classical computers can. It's an algorithmic wonder that illustrates how quantum computers can outperform classical ones in certain tasks.<br> In the next notebook, we'll unravel the BV algorithm step by step, exploring its inner workings and the magic it brings to quantum computing. Get ready for another thrilling quantum adventure!</p>\n",
    "    <div class=\"center\"> <!-- Center the button vertically -->\n",
    "        <!-- Create the button element -->\n",
    "        <a href = \"BV.ipynb\"><button class=\"button\">Bernstein-Vazirani algorithm</button></a>\n",
    "    </div>\n",
    "</body>\n",
    "\n",
    "</html>"
   ]
  },
  {
   "cell_type": "markdown",
   "metadata": {},
   "source": [
    "<!DOCTYPE html>\n",
    "<html>\n",
    "\n",
    "<head>\n",
    "    <link href=\"https://fonts.googleapis.com/css?family=Jost&display=swap\" rel=\"stylesheet\">\n",
    "    <style>\n",
    "        body {\n",
    "            font-family: 'Jost', sans-serif;\n",
    "        }\n",
    "        .created-by {\n",
    "         font-family: 'Jost', sans-serif;\n",
    "         text-align: center;\n",
    "         margin-top: 50px;\n",
    "        }\n",
    "        .created-by a {\n",
    "            color: #fff;\n",
    "            text-decoration: none;\n",
    "        }\n",
    "        .created-by a:hover {\n",
    "            color: #8BC34A;\n",
    "        }\n",
    "    </style>\n",
    "</head>\n",
    "\n",
    "<body>\n",
    "    <div class=\"created-by\">\n",
    "        Created by <a href=\"https://www.linkedin.com/in/abdullah-al-omar-galib-30b6b1258\">Abdullah Al Omar Galib (Ahkatlio)</a>\n",
    "    </div>\n",
    "</body>\n",
    "\n",
    "</html>"
   ]
  }
 ],
 "metadata": {
  "kernelspec": {
   "display_name": "Python 3",
   "language": "python",
   "name": "python3"
  },
  "language_info": {
   "codemirror_mode": {
    "name": "ipython",
    "version": 3
   },
   "file_extension": ".py",
   "mimetype": "text/x-python",
   "name": "python",
   "nbconvert_exporter": "python",
   "pygments_lexer": "ipython3",
   "version": "3.11.5"
  },
  "orig_nbformat": 4
 },
 "nbformat": 4,
 "nbformat_minor": 2
}
