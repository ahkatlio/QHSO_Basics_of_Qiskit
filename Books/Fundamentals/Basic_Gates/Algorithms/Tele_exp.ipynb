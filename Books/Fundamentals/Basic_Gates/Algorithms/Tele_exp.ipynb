{
 "cells": [
  {
   "cell_type": "markdown",
   "metadata": {},
   "source": [
    "<!DOCTYPE html>\n",
    "<html>\n",
    "\n",
    "<head>\n",
    "    <title>Teleportation</title>\n",
    "    <link href=\"https://fonts.googleapis.com/css?family=Jost&display=swap\" rel=\"stylesheet\">\n",
    "    <style>\n",
    "        body {\n",
    "            font-family: 'Jost', sans-serif;\n",
    "        }\n",
    "        h1, h2, h3, h4, h5, h6, p, ul {\n",
    "            font-family: 'Jost', sans-serif;\n",
    "        }\n",
    "        h1{\n",
    "            color: orange;\n",
    "        }\n",
    "        h2 {\n",
    "            color: #8BC34A;\n",
    "        }\n",
    "        .center {\n",
    "            text-align: center;\n",
    "        }\n",
    "    </style>\n",
    "</head>\n",
    "\n",
    "<body>\n",
    "    <div class=\"center\">\n",
    "        <img src=\"Logo_for_all/logo_round.png\" alt=\"QHSO Logo\" width=\"100\">\n",
    "    </div>\n",
    "    <h1 style=\"text-align: center;\">Quantum Teleportation: Sending Quantum Secrets</h1>\n",
    "    <p>Welcome to the fascinating world of quantum teleportation! In this notebook, we're going to embark on an incredible journey where we'll learn how to teleport quantum information from one place to another using the magic of quantum entanglement. Get ready for an adventure like no other! And we will also run our circuit to a real IBM Quantum Computer</p>\n",
    "    <h2>What is Quantum Teleportation?</h2>\n",
    "    <p>Imagine being able to send a quantum state (a qubit) to your friend, instantly! That's what quantum teleportation allows us to do. It's like teleporting in your favorite sci-fi movies, but with quantum information. <br>Here's the catch: we can't just copy and paste quantum states like regular information. Instead, we use a combination of three qubits and some quantum trickery to send the information securely.</p>\n",
    "    <h2>Let's build a teleportation circuit!</h2>\n",
    "    <p>Let's create a teleportation circuit. We will expalin every steps in details  and finally we will run it in a real-life quantum computer. For this we have to create a quantum circuit with three qubits and three classic bits. The reason we need three qubits is that, one to represent the state and two that we will entangle and share with O'Neal and Jaya:</p>\n",
    "</body>\n",
    "\n",
    "</html>"
   ]
  },
  {
   "cell_type": "markdown",
   "metadata": {},
   "source": [
    "1) We import the necessary libraries and create a quantum circuit with three qubits and three classical bits."
   ]
  },
  {
   "cell_type": "code",
   "execution_count": null,
   "metadata": {},
   "outputs": [],
   "source": [
    "from qiskit import QuantumCircuit, QuantumRegister, ClassicalRegister, execute, Aer\n",
    "from qiskit.visualization import plot_state_qsphere\n",
    "\n",
    "# Create a Quantum Register with 3 qubits.\n",
    "q = QuantumRegister(3, 'qubit')\n",
    "\n",
    "# Create a Classical Register with 3 bits.\n",
    "c = ClassicalRegister(3, 'Classical bit')\n",
    "\n",
    "# Create a Quantum Circuit\n",
    "qc = QuantumCircuit(q, c)\n"
   ]
  },
  {
   "cell_type": "markdown",
   "metadata": {},
   "source": [
    "The first qubit is the message qubit that O'Neal wants to send to Jaya. The second and third qubits are the entangled pair of qubits that O'Neal sends to Jaya. The classical bits are used to communicate two classical bits of information from O'Neal to Jaya."
   ]
  },
  {
   "cell_type": "markdown",
   "metadata": {},
   "source": [
    "2) Let's create the message that O'Neal wants to send to Jaya. It is unknown to both O'Neal and Jaya. Only we will know because we are the creators of this message. We will create a random state using the following code:"
   ]
  },
  {
   "cell_type": "code",
   "execution_count": null,
   "metadata": {},
   "outputs": [],
   "source": [
    "# We add H gate to the first qubit\n",
    "qc.x(q[0])\n",
    "qc.barrier()"
   ]
  },
  {
   "cell_type": "markdown",
   "metadata": {},
   "source": [
    "3) We will now create an entangled pair of qubits that O'Neal will send to Jaya. We will use the following code to create the entangled pair:"
   ]
  },
  {
   "cell_type": "code",
   "execution_count": null,
   "metadata": {},
   "outputs": [],
   "source": [
    "qc.h(q[1])\n",
    "qc.cx(q[1], q[2])\n",
    "qc.barrier()"
   ]
  },
  {
   "cell_type": "markdown",
   "metadata": {},
   "source": [
    "O'Neal will keep one qubit[1] and send other qubit[2] to Jaya. To entangle the two qubits, we apply a h gate to O'Neal's qubit, qubit[1].After that we apply cx gate, where the control is connected to O'Neal's qubit and thr target is connected to jaya's qubit."
   ]
  },
  {
   "cell_type": "markdown",
   "metadata": {},
   "source": [
    "4) Now, we will entangle the O'Neal's qubit with the qubit that has the encrypted messages (state). Then we add h gate prior to measuring both message contained qubit and O'Neal's entangled qubit.  "
   ]
  },
  {
   "cell_type": "code",
   "execution_count": null,
   "metadata": {},
   "outputs": [],
   "source": [
    "qc.cx(q[0], q[1])\n",
    "qc.h(0)\n",
    "qc.barrier()\n",
    "qc.measure(0,0)\n",
    "qc.measure(1,1)\n",
    "qc.barrier()"
   ]
  },
  {
   "cell_type": "markdown",
   "metadata": {},
   "source": [
    "5) Now, O'Neal calls Jaya telling him that he has sent two qubits to him. One of them is the message qubit and the other is the entangled qubit. O'Neal also tells Jaya the two classical bits that he got from measuring the two qubits. Jaya then applies the following gates depending on the values of the classical bits:"
   ]
  },
  {
   "cell_type": "code",
   "execution_count": null,
   "metadata": {},
   "outputs": [],
   "source": [
    "from math import pi\n",
    "qc.crx(pi, q[1], q[2]).c_if(c, 1)\n",
    "qc.crz(pi, q[0], q[2]).c_if(c, 1)"
   ]
  },
  {
   "cell_type": "markdown",
   "metadata": {},
   "source": [
    "6) Let's draw the circuit to see what it looks like:"
   ]
  },
  {
   "cell_type": "code",
   "execution_count": null,
   "metadata": {},
   "outputs": [],
   "source": [
    "qc.draw(output='mpl')"
   ]
  },
  {
   "cell_type": "markdown",
   "metadata": {},
   "source": [
    "Here Jaya applies controled rotation x gate, where the control is connected to the entangled qubit and the target is connected to the Jaya's qubit. If the classical bit 1 is 1, then it rotates the qubit by 180 degrees. He also applies controled rotation z gate, where the control is connected to the message qubit and the target is connected to the Jaya's qubit. If the classical bit 2 is 1, then it rotates the qubit by 180 degrees. Because of the rotation, the state of the qubit is now the same as the original state that O'Neal wanted to send to Jaya."
   ]
  },
  {
   "cell_type": "markdown",
   "metadata": {},
   "source": [
    "7) Let's see the result of the circuit:"
   ]
  },
  {
   "cell_type": "code",
   "execution_count": null,
   "metadata": {},
   "outputs": [],
   "source": [
    "# Execute the quantum circuit on a statevector simulator backend\n",
    "backend = Aer.get_backend('statevector_simulator')\n",
    "result = execute(qc, backend).result()\n",
    "statevector = result.get_statevector(qc)\n",
    "plot_state_qsphere(statevector, show_state_phases = True, use_degrees = True)"
   ]
  },
  {
   "cell_type": "markdown",
   "metadata": {},
   "source": [
    "Here we can see that the state of the qubit is the same as the original state that O'Neal wanted to send to Jaya."
   ]
  },
  {
   "cell_type": "markdown",
   "metadata": {},
   "source": [
    "8) Let's run the circuit in a real quantum computer:"
   ]
  },
  {
   "cell_type": "code",
   "execution_count": null,
   "metadata": {},
   "outputs": [],
   "source": [
    "from qiskit import IBMQ\n",
    "\n",
    "# Replace 'MY_API_TOKEN' with your actual API token\n",
    "IBMQ.save_account('API_TOKEN', overwrite=True)\n"
   ]
  },
  {
   "cell_type": "markdown",
   "metadata": {},
   "source": [
    "<img src=\"Logo_for_all/logo_round.png\" alt=\"QHSO Logo\" width=\"100\">"
   ]
  },
  {
   "cell_type": "code",
   "execution_count": null,
   "metadata": {},
   "outputs": [],
   "source": [
    "IBMQ.load_account()\n",
    "provider = IBMQ.get_provider(hub='ibm-q')\n",
    "provider.backends()"
   ]
  },
  {
   "cell_type": "markdown",
   "metadata": {},
   "source": [
    "<!DOCTYPE html>\n",
    "<html>\n",
    "\n",
    "<head>\n",
    "    <link href=\"https://fonts.googleapis.com/css?family=Jost&display=swap\" rel=\"stylesheet\">\n",
    "    <style>\n",
    "        body {\n",
    "            font-family: 'Jost', sans-serif;\n",
    "        }\n",
    "        .created-by {\n",
    "         font-family: 'Jost', sans-serif;\n",
    "         text-align: center;\n",
    "         margin-top: 50px;\n",
    "        }\n",
    "        .created-by a {\n",
    "            color: #fff;\n",
    "            text-decoration: none;\n",
    "        }\n",
    "        .created-by a:hover {\n",
    "            color: #8BC34A;\n",
    "        }\n",
    "    </style>\n",
    "</head>\n",
    "\n",
    "<body>\n",
    "    <div class=\"created-by\">\n",
    "        Created by <a href=\"https://www.linkedin.com/in/abdullah-al-omar-galib-30b6b1258\">Abdullah Al Omar Galib (Ahkatlio)</a>\n",
    "    </div>\n",
    "</body>\n",
    "\n",
    "</html>"
   ]
  }
 ],
 "metadata": {
  "kernelspec": {
   "display_name": "Python 3",
   "language": "python",
   "name": "python3"
  },
  "language_info": {
   "codemirror_mode": {
    "name": "ipython",
    "version": 3
   },
   "file_extension": ".py",
   "mimetype": "text/x-python",
   "name": "python",
   "nbconvert_exporter": "python",
   "pygments_lexer": "ipython3",
   "version": "3.11.5"
  },
  "orig_nbformat": 4
 },
 "nbformat": 4,
 "nbformat_minor": 2
}
