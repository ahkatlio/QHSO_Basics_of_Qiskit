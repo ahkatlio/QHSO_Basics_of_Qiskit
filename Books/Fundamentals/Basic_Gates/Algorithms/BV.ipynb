{
 "cells": [
  {
   "cell_type": "markdown",
   "metadata": {},
   "source": [
    "<!DOCTYPE html>\n",
    "<html>\n",
    "\n",
    "<head>\n",
    "    <title>BV</title>\n",
    "    <link href=\"https://fonts.googleapis.com/css?family=Jost&display=swap\" rel=\"stylesheet\">\n",
    "    <style>\n",
    "        body {\n",
    "            font-family: 'Jost', sans-serif;\n",
    "        }\n",
    "        h1, h2, h3, h4, h5, h6, p, ol {\n",
    "            font-family: 'Jost', sans-serif;\n",
    "        }\n",
    "        h1{\n",
    "            color: orange;\n",
    "        }\n",
    "        h2 {\n",
    "            color: #8BC34A;\n",
    "        }\n",
    "        .center {\n",
    "            text-align: center;\n",
    "        }\n",
    "        iframe {\n",
    "            display: block;\n",
    "            margin: auto;\n",
    "        }\n",
    "    </style>\n",
    "</head>\n",
    "\n",
    "<body>\n",
    "    <div class=\"center\">\n",
    "        <img src=\"Logo_for_all/logo_round.png\" alt=\"QHSO Logo\" width=\"100\">\n",
    "    </div>\n",
    "    <h1 style=\"text-align: center;\">Unveiling the Bernstein-Vazirani Algorithm</h1>\n",
    "    <p>In this notebook, we'll explore the Bernstein-Vazirani (BV) algorithm, a powerful quantum algorithm that can solve a specific type of problem exponentially faster than classical computers.</p>\n",
    "    <h2>Problem Statement</h2>\n",
    "    <p>Imagine you have a oracle box that takes an input of 'n' bits and produces a single bit as output. This oracle box has a hidden 'n-bit secret string' that determines the output. Your task is to unveil this hidden string using the least number of queries to the oracle box.</p>\n",
    "    <h2>The Classical Approach</h2>\n",
    "    <p>Classically, to unveil the secret string, you would need to make 'n' queries to the black box, one for each bit of the secret string. This is known as the <strong>brute-force</strong> approach, and it takes 'n' queries, which is linear in the problem size.</p>\n",
    "    <h2>Enter the Bernstein-Vazirani Algorithm</h2>\n",
    "    <p>Now, let's introduce the quantum magic! The Bernstein-Vazirani algorithm is a quantum algorithm that can unveil the secret string in a single query, regardless of the problem size 'n'. That's right; it's exponentially faster than the classical approach.<p>\n",
    "    <h2>How Does it Work?</h2>\n",
    "    <p>The BV algorithm leverages quantum parallelism and the power of superposition to unveil the secret string efficiently. Here's how it works:</p>\n",
    "    <ol><li>Prepare 'n' qubits in the |0⟩ state. Add |1⟩ state to the 'n+1'th qubit</li><li>Apply a Hadamard gate (H-gate) to all 'n+1' qubits. This puts them in a superposition of all possible bit strings.</li><li>Query the black box (the 'oracle') to obtain the output, which is a result of bitwise multiplication (inner product) of the secret string with the input.</li><li>Apply another round of H-gates to the first 'n' qubits.</li><li>Measure the first 'n' qubits. The measurement result will be the hidden secret string!</li></ol>\n",
    "    <h2>Let's recap Bernstein-Vazirani Algorithm in 2 minute</h2>\n",
    "    <p>Here's a quick recap of the BV algorithm in 2 minutes:</p>\n",
    "    <div class=\"center\">\n",
    "        <a href = \"https://youtu.be/q_uHFQXCils?feature=shared\"><img src=\"BV_stuffs/YouTube.png\" alt=\"YouTube\" width=\"250\"></a>\n",
    "    </div>\n",
    "    <h2>Let's Witness Quantum Speed</h2>\n",
    "    <p>Now, let's dive into quantum coding and witness the BV algorithm in action using Qiskit, a powerful quantum computing framework. We'll create a quantum circuit to unveil the secret string using the BV algorithm.</p>\n",
    "</body>\n",
    "\n",
    "</html>"
   ]
  },
  {
   "cell_type": "markdown",
   "metadata": {},
   "source": [
    "1) Let's import the necessary libraries and initialize the quantum simulator."
   ]
  },
  {
   "cell_type": "code",
   "execution_count": 1,
   "metadata": {},
   "outputs": [],
   "source": [
    "from HiddenCode import generate_hidden_binary_string\n",
    "from qiskit import QuantumCircuit, Aer, execute\n",
    "from qiskit.visualization import plot_histogram"
   ]
  },
  {
   "cell_type": "markdown",
   "metadata": {},
   "source": [
    "2) From HiddenCode we get the secret string and store it in a variable called `hidden_code`."
   ]
  },
  {
   "cell_type": "code",
   "execution_count": 2,
   "metadata": {},
   "outputs": [],
   "source": [
    "# We check the length of the hidden binary string\n",
    "hidden_code = generate_hidden_binary_string()"
   ]
  },
  {
   "cell_type": "markdown",
   "metadata": {},
   "source": [
    "3) Let's measure the length of the secret string:"
   ]
  },
  {
   "cell_type": "code",
   "execution_count": 3,
   "metadata": {},
   "outputs": [
    {
     "name": "stdout",
     "output_type": "stream",
     "text": [
      "The length of the binary string is: 4\n"
     ]
    }
   ],
   "source": [
    "length = len(hidden_code)\n",
    "print(\"The length of the binary string is:\", length)"
   ]
  },
  {
   "cell_type": "markdown",
   "metadata": {},
   "source": [
    "4) Let's create the Bernstein-Vazirani quantum circuit according to the length of the secret string:"
   ]
  },
  {
   "cell_type": "code",
   "execution_count": 10,
   "metadata": {},
   "outputs": [
    {
     "data": {
      "image/png": "[encoded data removed]",
      "text/plain": [
       "<Figure size 1290.83x535.111 with 1 Axes>"
      ]
     },
     "execution_count": 10,
     "metadata": {},
     "output_type": "execute_result"
    }
   ],
   "source": [
    "# We define our quantum circuit\n",
    "qc = QuantumCircuit(length + 1, length + 1)\n",
    "\n",
    "# We apply X-gate to the last qubit\n",
    "qc.x(length)\n",
    "qc.barrier()\n",
    "\n",
    "# We apply Hadamard gates to all qubits\n",
    "for i in range(length + 1):\n",
    "    qc.h(i)\n",
    "\n",
    "qc.barrier()\n",
    "# We apply the oracle box\n",
    "for i in range(length):\n",
    "    if hidden_code[i] == '1':\n",
    "        qc.cx(i, length)\n",
    "qc.barrier()\n",
    "\n",
    "# We apply Hadamard gates to all qubits except the last one\n",
    "for i in range(length):\n",
    "    qc.h(i)\n",
    "\n",
    "\n",
    "qc.barrier()\n",
    "\n",
    "# We measure all qubits except the last one\n",
    "for i in range(length):\n",
    "    qc.measure(i, i)\n",
    "\n",
    "# We draw the circuit\n",
    "qc.draw(output='mpl')\n"
   ]
  },
  {
   "cell_type": "markdown",
   "metadata": {},
   "source": [
    "5) Let's mesure the circuit:"
   ]
  },
  {
   "cell_type": "code",
   "execution_count": 11,
   "metadata": {},
   "outputs": [],
   "source": [
    "# We simulate the quantum circuit using the qasm simulator\n",
    "simulator = Aer.get_backend('qasm_simulator')\n",
    "job = execute(qc, simulator, shots=1000)\n",
    "result = job.result()\n",
    "counts = result.get_counts(qc)"
   ]
  },
  {
   "cell_type": "markdown",
   "metadata": {},
   "source": [
    "6) Let's check the result if our circuit is correct or not:"
   ]
  },
  {
   "cell_type": "code",
   "execution_count": 12,
   "metadata": {},
   "outputs": [
    {
     "name": "stdout",
     "output_type": "stream",
     "text": [
      "Hidden binary string: 0111\n",
      "Output from the quantum circuit: 0111\n"
     ]
    },
    {
     "data": {
      "image/png": "[encoded data removed]",
      "text/plain": [
       "<Figure size 700x500 with 1 Axes>"
      ]
     },
     "execution_count": 12,
     "metadata": {},
     "output_type": "execute_result"
    }
   ],
   "source": [
    "# We get the output of the first n+1 qubits\n",
    "output = max(counts, key=counts.get)\n",
    "\n",
    "# We delete the first bit from the output and reverse it\n",
    "output = output[1:][::-1]\n",
    "    \n",
    "# We print the results\n",
    "print(\"Hidden binary string:\", hidden_code)\n",
    "print(\"Output from the quantum circuit:\", output)\n",
    "plot_histogram(counts)"
   ]
  },
  {
   "cell_type": "markdown",
   "metadata": {},
   "source": [
    "Here we can see that the result is correct. We have unveiled the secret string using the BV algorithm in a single query, which is exponentially faster than the classical approach."
   ]
  },
  {
   "cell_type": "markdown",
   "metadata": {},
   "source": [
    "<!DOCTYPE html>\n",
    "<html>\n",
    "\n",
    "<head>\n",
    "    <link href=\"https://fonts.googleapis.com/css?family=Jost&display=swap\" rel=\"stylesheet\">\n",
    "    <style>\n",
    "        body {\n",
    "            font-family: 'Jost', sans-serif;\n",
    "        }\n",
    "        h1, h2, h3, h4, h5, h6, p, ul {\n",
    "            font-family: 'Jost', sans-serif;\n",
    "        }\n",
    "        h1{\n",
    "            color: orange;\n",
    "        }\n",
    "        h2 {\n",
    "            color: #8BC34A;\n",
    "        }\n",
    "        .center {\n",
    "            text-align: center;\n",
    "        }\n",
    "    </style>\n",
    "</head>\n",
    "\n",
    "<body>\n",
    "    <h2>Applications of the BV Algorithm</h2>\n",
    "    <p>The BV algorithm showcases the power of quantum computation and has applications in various fields:</p>\n",
    "    <ul><li><strong>Cryptography:</strong> It demonstrates the vulnerability of classical cryptographic algorithms to quantum attacks.</li><li><strong>Speedup:</strong> It highlights the potential speedup of quantum algorithms over classical ones for specific problems.</li></ul>\n",
    "</body>\n",
    "\n",
    "</html>"
   ]
  },
  {
   "cell_type": "markdown",
   "metadata": {},
   "source": [
    "<!DOCTYPE html>\n",
    "<html>\n",
    "\n",
    "<head>\n",
    "    <link href=\"https://fonts.googleapis.com/css?family=Jost&display=swap\" rel=\"stylesheet\">\n",
    "    <style>\n",
    "        body {\n",
    "            font-family: 'Jost', sans-serif;\n",
    "        }\n",
    "        h1, h2, h3, h4, h5, h6, p, ol {\n",
    "            font-family: 'Jost', sans-serif;\n",
    "        }\n",
    "        h1{\n",
    "            color: orange;\n",
    "        }\n",
    "        h2 {\n",
    "            color: #8BC34A;\n",
    "        }\n",
    "        .center {\n",
    "            text-align: center;\n",
    "        }\n",
    "    </style>\n",
    "</head>\n",
    "\n",
    "<body>\n",
    "    <h2>Experiment and Explore</h2>\n",
    "    <p>Now, it's your turn to explore the BV algorithm. Experiment with the provided code, create your own secret string problems, and witness the quantum advantage in action. This algorithm is just one example of how quantum computing can revolutionize the world of computation.</p>\n",
    "</body>\n",
    "\n",
    "</html>"
   ]
  },
  {
   "cell_type": "markdown",
   "metadata": {},
   "source": [
    "<!DOCTYPE html>\n",
    "<html>\n",
    "\n",
    "<head>\n",
    "    <link href=\"https://fonts.googleapis.com/css?family=Jost&display=swap\" rel=\"stylesheet\">\n",
    "    <style>\n",
    "        body {\n",
    "            font-family: 'Jost', sans-serif;\n",
    "        }\n",
    "        .created-by {\n",
    "         font-family: 'Jost', sans-serif;\n",
    "         text-align: center;\n",
    "         margin-top: 50px;\n",
    "        }\n",
    "        .created-by a {\n",
    "            color: #fff;\n",
    "            text-decoration: none;\n",
    "        }\n",
    "        .created-by a:hover {\n",
    "            color: #8BC34A;\n",
    "        }\n",
    "    </style>\n",
    "</head>\n",
    "\n",
    "<body>\n",
    "    <div class=\"created-by\">\n",
    "        Created by <a href=\"https://www.linkedin.com/in/abdullah-al-omar-galib-30b6b1258\">Abdullah Al Omar Galib (Ahkatlio)</a>\n",
    "    </div>\n",
    "</body>\n",
    "\n",
    "</html>"
   ]
  }
 ],
 "metadata": {
  "kernelspec": {
   "display_name": "Python 3",
   "language": "python",
   "name": "python3"
  },
  "language_info": {
   "codemirror_mode": {
    "name": "ipython",
    "version": 3
   },
   "file_extension": ".py",
   "mimetype": "text/x-python",
   "name": "python",
   "nbconvert_exporter": "python",
   "pygments_lexer": "ipython3",
   "version": "3.11.5"
  },
  "orig_nbformat": 4
 },
 "nbformat": 4,
 "nbformat_minor": 2
}
