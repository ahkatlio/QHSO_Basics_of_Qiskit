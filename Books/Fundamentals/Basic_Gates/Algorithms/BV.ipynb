{
 "cells": [
  {
   "cell_type": "markdown",
   "metadata": {},
   "source": [
    "<!DOCTYPE html>\n",
    "<html>\n",
    "\n",
    "<head>\n",
    "    <title>BV</title>\n",
    "    <link href=\"https://fonts.googleapis.com/css?family=Jost&display=swap\" rel=\"stylesheet\">\n",
    "    <style>\n",
    "        body {\n",
    "            font-family: 'Jost', sans-serif;\n",
    "        }\n",
    "        h1, h2, h3, h4, h5, h6, p, ol {\n",
    "            font-family: 'Jost', sans-serif;\n",
    "        }\n",
    "        h1{\n",
    "            color: orange;\n",
    "        }\n",
    "        h2 {\n",
    "            color: #8BC34A;\n",
    "        }\n",
    "        .center {\n",
    "            text-align: center;\n",
    "        }\n",
    "        iframe {\n",
    "            display: block;\n",
    "            margin: auto;\n",
    "        }\n",
    "    </style>\n",
    "</head>\n",
    "\n",
    "<body>\n",
    "    <div class=\"center\">\n",
    "        <img src=\"Logo_for_all/logo_round.png\" alt=\"QHSO Logo\" width=\"100\">\n",
    "    </div>\n",
    "    <h1 style=\"text-align: center;\">Unveiling the Bernstein-Vazirani Algorithm</h1>\n",
    "    <p>In this notebook, we'll explore the Bernstein-Vazirani (BV) algorithm, a powerful quantum algorithm that can solve a specific type of problem exponentially faster than classical computers.</p>\n",
    "    <h2>Problem Statement</h2>\n",
    "    <p>Imagine you have a black box that takes an input of 'n' bits and produces a single bit as output. This black box has a hidden 'n-bit secret string' that determines the output. Your task is to unveil this hidden string using the least number of queries to the black box.</p>\n",
    "    <h2>The Classical Approach</h2>\n",
    "    <p>Classically, to unveil the secret string, you would need to make 'n' queries to the black box, one for each bit of the secret string. This is known as the <strong>brute-force</strong> approach, and it takes 'n' queries, which is linear in the problem size.</p>\n",
    "    <h2>Enter the Bernstein-Vazirani Algorithm</h2>\n",
    "    <p>Now, let's introduce the quantum magic! The Bernstein-Vazirani algorithm is a quantum algorithm that can unveil the secret string in a single query, regardless of the problem size 'n'. That's right; it's exponentially faster than the classical approach.<p>\n",
    "    <h2>How Does it Work?</h2>\n",
    "    <p>The BV algorithm leverages quantum parallelism and the power of superposition to unveil the secret string efficiently. Here's how it works:</p>\n",
    "    <ol><li>Prepare 'n+1' qubits in the |0⟩ state, where the extra qubit is used to store the output. Add X gate to the 'n+1'th qubit</li><li>Apply a Hadamard gate (H-gate) to all 'n+1' qubits. This puts them in a superposition of all possible bit strings.</li><li>Query the black box (the 'oracle') to obtain the output, which is a result of bitwise multiplication (inner product) of the secret string with the input.</li><li>Apply another round of H-gates to the first 'n' qubits.</li><li>Measure the first 'n' qubits. The measurement result will be the hidden secret string!</li></ol>\n",
    "    <h2>Let's recap Bernstein-Vazirani Algorithm in 2 minute</h2>\n",
    "    <p>Here's a quick recap of the BV algorithm in 2 minutes:</p>\n",
    "    <div class=\"center\">\n",
    "        <a href = \"https://youtu.be/q_uHFQXCils?feature=shared\"><img src=\"BV_stuffs/YouTube.png\" alt=\"YouTube\" width=\"400\"></a>\n",
    "    </div>\n",
    "    <h2>Let's Witness Quantum Speed</h2>\n",
    "    <p>Now, let's dive into quantum coding and witness the BV algorithm in action using Qiskit, a powerful quantum computing framework. We'll create a quantum circuit to unveil the secret string using the BV algorithm.</p>\n",
    "</body>\n",
    "\n",
    "</html>"
   ]
  },
  {
   "cell_type": "markdown",
   "metadata": {},
   "source": [
    "1) Let's import the necessary libraries and initialize the quantum simulator."
   ]
  },
  {
   "cell_type": "code",
   "execution_count": 123,
   "metadata": {},
   "outputs": [],
   "source": [
    "from HiddenCode import generate_hidden_binary_string\n",
    "from oracle_box import oracle_box\n",
    "from qiskit import QuantumCircuit, Aer, execute\n",
    "from qiskit.visualization import plot_histogram"
   ]
  },
  {
   "cell_type": "markdown",
   "metadata": {},
   "source": [
    "2) From HiddenCode we get the secret string and store it in a variable called `hidden_code`."
   ]
  },
  {
   "cell_type": "code",
   "execution_count": 124,
   "metadata": {},
   "outputs": [],
   "source": [
    "# We check the length of the hidden binary string\n",
    "hidden_code = generate_hidden_binary_string()"
   ]
  },
  {
   "cell_type": "markdown",
   "metadata": {},
   "source": [
    "3) Let's measure the length of the secret string:"
   ]
  },
  {
   "cell_type": "code",
   "execution_count": 125,
   "metadata": {},
   "outputs": [
    {
     "name": "stdout",
     "output_type": "stream",
     "text": [
      "The length of the binary string is: 3\n"
     ]
    }
   ],
   "source": [
    "length = len(hidden_code)\n",
    "print(\"The length of the binary string is:\", length)"
   ]
  },
  {
   "cell_type": "markdown",
   "metadata": {},
   "source": [
    "4) Let's create the Bernstein-Vazirani quantum circuit according to the length of the secret string:"
   ]
  },
  {
   "cell_type": "code",
   "execution_count": 126,
   "metadata": {},
   "outputs": [
    {
     "ename": "TypeError",
     "evalue": "oracle_box() takes 1 positional argument but 2 were given",
     "output_type": "error",
     "traceback": [
      "\u001b[1;31m---------------------------------------------------------------------------\u001b[0m",
      "\u001b[1;31mTypeError\u001b[0m                                 Traceback (most recent call last)",
      "\u001b[1;32md:\\QHSO_Basics_of_Qiskit\\Books\\Fundamentals\\Basic_Gates\\Algorithms\\BV.ipynb Cell 9\u001b[0m line \u001b[0;36m1\n\u001b[0;32m     <a href='vscode-notebook-cell:/d%3A/QHSO_Basics_of_Qiskit/Books/Fundamentals/Basic_Gates/Algorithms/BV.ipynb#X21sZmlsZQ%3D%3D?line=9'>10</a>\u001b[0m     qc\u001b[39m.\u001b[39mh(i)\n\u001b[0;32m     <a href='vscode-notebook-cell:/d%3A/QHSO_Basics_of_Qiskit/Books/Fundamentals/Basic_Gates/Algorithms/BV.ipynb#X21sZmlsZQ%3D%3D?line=11'>12</a>\u001b[0m \u001b[39m# We apply the oracle box\u001b[39;00m\n\u001b[1;32m---> <a href='vscode-notebook-cell:/d%3A/QHSO_Basics_of_Qiskit/Books/Fundamentals/Basic_Gates/Algorithms/BV.ipynb#X21sZmlsZQ%3D%3D?line=12'>13</a>\u001b[0m oracle_box(qc, hidden_code)\n\u001b[0;32m     <a href='vscode-notebook-cell:/d%3A/QHSO_Basics_of_Qiskit/Books/Fundamentals/Basic_Gates/Algorithms/BV.ipynb#X21sZmlsZQ%3D%3D?line=13'>14</a>\u001b[0m qc\u001b[39m.\u001b[39mbarrier()\n\u001b[0;32m     <a href='vscode-notebook-cell:/d%3A/QHSO_Basics_of_Qiskit/Books/Fundamentals/Basic_Gates/Algorithms/BV.ipynb#X21sZmlsZQ%3D%3D?line=15'>16</a>\u001b[0m \u001b[39m# We apply Hadamard gates to all qubits\u001b[39;00m\n",
      "\u001b[1;31mTypeError\u001b[0m: oracle_box() takes 1 positional argument but 2 were given"
     ]
    }
   ],
   "source": [
    "# We define our quantum circuit\n",
    "qc = QuantumCircuit(length + 1, length+1)\n",
    "\n",
    "# We apply X-gate to the last qubit\n",
    "qc.x(length)\n",
    "qc.barrier()\n",
    "\n",
    "# We apply Hadamard gates to all qubits\n",
    "for i in range(length + 1):\n",
    "    qc.h(i)\n",
    "\n",
    "# We apply the oracle box\n",
    "oracle_box(qc, hidden_code)\n",
    "qc.barrier()\n",
    "\n",
    "# We apply Hadamard gates to all qubits\n",
    "for i in range(length):\n",
    "    qc.h(i)\n",
    "\n",
    "\n",
    "qc.barrier()\n",
    "\n",
    "# We measure all qubits\n",
    "for i in range(length):\n",
    "    qc.measure(i, i)\n",
    "\n",
    "# We draw the circuit\n",
    "qc.draw(output='mpl')\n"
   ]
  },
  {
   "cell_type": "code",
   "execution_count": null,
   "metadata": {},
   "outputs": [
    {
     "data": {
      "image/png": "[encoded data removed]",
      "text/plain": [
       "<Figure size 872.774x367.889 with 1 Axes>"
      ]
     },
     "execution_count": 109,
     "metadata": {},
     "output_type": "execute_result"
    }
   ],
   "source": [
    "# Define your quantum circuit\n",
    "qc = QuantumCircuit(length + 1, length+1)\n",
    "\n",
    "qc.x(length)\n",
    "qc.barrier()\n",
    "# Apply X gate and H gate to all qubits\n",
    "for i in range(length + 1):\n",
    "    qc.h(i)\n",
    "\n",
    "qc.barrier()\n",
    "\n",
    "# Apply the oracle\n",
    "for i in range(length):\n",
    "    if hidden_code[i] == '1':\n",
    "        qc.cx(i, length)\n",
    "\n",
    "qc.barrier()\n",
    "\n",
    "for i in range(length):\n",
    "    qc.h(i)\n",
    "\n",
    "qc.barrier()\n",
    "# Measure all qubits\n",
    "for i in range(length):\n",
    "    qc.measure(i, i)\n",
    "\n",
    "# Draw the circuit\n",
    "qc.draw(output='mpl')"
   ]
  },
  {
   "cell_type": "code",
   "execution_count": null,
   "metadata": {},
   "outputs": [
    {
     "name": "stdout",
     "output_type": "stream",
     "text": [
      "Hidden binary string: 00\n",
      "Output: 00\n"
     ]
    },
    {
     "data": {
      "image/png": "[encoded data removed]",
      "text/plain": [
       "<Figure size 700x500 with 1 Axes>"
      ]
     },
     "execution_count": 110,
     "metadata": {},
     "output_type": "execute_result"
    }
   ],
   "source": [
    "# Simulate the quantum circuit using the qasm simulator\n",
    "simulator = Aer.get_backend('qasm_simulator')\n",
    "job = execute(qc, simulator, shots=1000)\n",
    "result = job.result()\n",
    "counts = result.get_counts(qc)\n",
    "\n",
    "# Get the output of the first n qubits\n",
    "output = max(counts, key=counts.get)\n",
    "\n",
    "# Delete the first bit from the output and reverse it\n",
    "output = output[1:][::-1]\n",
    "    \n",
    "    \n",
    "\n",
    "# Print the results\n",
    "print(\"Hidden binary string:\", hidden_code)\n",
    "print(\"Output:\", output)\n",
    "plot_histogram(counts)"
   ]
  },
  {
   "cell_type": "markdown",
   "metadata": {},
   "source": [
    "<!DOCTYPE html>\n",
    "<html>\n",
    "\n",
    "<head>\n",
    "    <link href=\"https://fonts.googleapis.com/css?family=Jost&display=swap\" rel=\"stylesheet\">\n",
    "    <style>\n",
    "        body {\n",
    "            font-family: 'Jost', sans-serif;\n",
    "        }\n",
    "        .created-by {\n",
    "         font-family: 'Jost', sans-serif;\n",
    "         text-align: center;\n",
    "         margin-top: 50px;\n",
    "        }\n",
    "        .created-by a {\n",
    "            color: #fff;\n",
    "            text-decoration: none;\n",
    "        }\n",
    "        .created-by a:hover {\n",
    "            color: #8BC34A;\n",
    "        }\n",
    "    </style>\n",
    "</head>\n",
    "\n",
    "<body>\n",
    "    <div class=\"created-by\">\n",
    "        Created by <a href=\"https://www.linkedin.com/in/abdullah-al-omar-galib-30b6b1258\">Abdullah Al Omar Galib (Ahkatlio)</a>\n",
    "    </div>\n",
    "</body>\n",
    "\n",
    "</html>"
   ]
  }
 ],
 "metadata": {
  "kernelspec": {
   "display_name": "Python 3",
   "language": "python",
   "name": "python3"
  },
  "language_info": {
   "codemirror_mode": {
    "name": "ipython",
    "version": 3
   },
   "file_extension": ".py",
   "mimetype": "text/x-python",
   "name": "python",
   "nbconvert_exporter": "python",
   "pygments_lexer": "ipython3",
   "version": "3.11.5"
  },
  "orig_nbformat": 4
 },
 "nbformat": 4,
 "nbformat_minor": 2
}
