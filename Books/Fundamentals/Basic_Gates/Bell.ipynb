{
 "cells": [
  {
   "cell_type": "markdown",
   "metadata": {},
   "source": [
    "<!DOCTYPE html>\n",
    "<html>\n",
    "\n",
    "<head>\n",
    "    <title>Rx, Ry, Rz</title>\n",
    "    <link href=\"https://fonts.googleapis.com/css?family=Jost&display=swap\" rel=\"stylesheet\">\n",
    "    <style>\n",
    "        body {\n",
    "            font-family: 'Jost', sans-serif;\n",
    "        }\n",
    "        h1, h2, h3, h4, h5, h6, p, ul {\n",
    "            font-family: 'Jost', sans-serif;\n",
    "        }\n",
    "        h1{\n",
    "            color: orange;\n",
    "        }\n",
    "        h2 {\n",
    "            color: #8BC34A;\n",
    "        }\n",
    "        .center {\n",
    "            text-align: center;\n",
    "        }\n",
    "    </style>\n",
    "</head>\n",
    "\n",
    "<body>\n",
    "    <div class=\"center\">\n",
    "        <img src=\"Algorithms/Logo_for_all/logo_round.png\" alt=\"QHSO Logo\" width=\"100\">\n",
    "    </div>\n",
    "    <h1 style=\"text-align: center;\">Exploring the Bell State Algorithm: Quantum Entanglement Magic</h1>\n",
    "    <p>We're about to dive into the intriguing realm of the Bell State Algorithm. This algorithm introduces us to the mysterious concept of quantum entanglement, often called \"spooky action at a distance.\" Get ready for some quantum magic!</p>\n",
    "    <h2>What is the Bell State Algorithm?</h2>\n",
    "    <p>Bell States are a special family of quantum states that exhibit remarkable properties. They are like the \"twins\" of quantum states, and when we measure one, we instantly know something about the other, no matter how far apart they are. Bell States play a crucial role in various quantum applications, from quantum teleportation to quantum cryptography.</p>\n",
    "    <h2>Quantum Entanglement: The Quantum Link</h2>\n",
    "    <p>Before we dive into the Bell State algorithm, let's understand the concept of quantum entanglement. Imagine you have two qubits that are magically connected in a way that if you change one, the other changes instantly. This mysterious connection is what we call entanglement. It's like having a pair of magical walkie-talkies that always communicate with each other, no matter the distance.</p>\n",
    "    <h2>The Bell State Algorithm</h2>\n",
    "    <p>The Bell State algorithm is a simple but profound way to create Bell States. It involves two qubits, often referred to as Qubit A and Qubit B. Here's how it works:<p>\n",
    "    <p>\n",
    "    <ul>\n",
    "        <li>Start with two qubits in the |0⟩ state.</li>\n",
    "        <li>Apply a Hadamard gate to Qubit A.</li>\n",
    "        <li>Apply a CNOT gate to Qubit B, using Qubit A as the control.</li></ul>\n",
    "    </p>\n",
    "    <h2>The Four Bell States</h2>\n",
    "    <p>There are four Bell States, each with a unique quantum state. Here are the four Bell States:</p>\n",
    "    <ol><li><strong>Bell State #1 (Φ+)</strong>: They are in a superposition of |00⟩ and |11⟩</li><li><strong>Bell State #2 (Φ-)</strong>: They are in a superposition of |00⟩ and -|11⟩</li><li><strong>Bell State #3 (Ψ+)</strong>: They are in a superposition of |01⟩ and |10⟩</li><li><strong>Bell State #4 (Ψ-)</strong>: They are in a superposition of |01⟩ and -|10⟩</li></ol>\n",
    "    <h2>Let's Create Some Bell States!</h2>\n",
    "    <p>Now, let's roll up our sleeves and use Qiskit, a powerful quantum programming tool, to create these Bell states. We'll see the magic of entanglement in action!</p>\n",
    "</body>\n",
    "\n",
    "</html>"
   ]
  },
  {
   "cell_type": "markdown",
   "metadata": {},
   "source": [
    "<!DOCTYPE html>\n",
    "<html>\n",
    "\n",
    "<head>\n",
    "    <title>X-Gate</title>\n",
    "    <link href=\"https://fonts.googleapis.com/css?family=Jost&display=swap\" rel=\"stylesheet\">\n",
    "    <style>\n",
    "        body {\n",
    "            font-family: 'Jost', sans-serif;\n",
    "        }\n",
    "        h1, h2, h3, h4, h5, h6, p, ol {\n",
    "            font-family: 'Jost', sans-serif;\n",
    "        }\n",
    "        h1{\n",
    "            color: orange;\n",
    "        }\n",
    "        h2 {\n",
    "            color: #8BC34A;\n",
    "        }\n",
    "        .center {\n",
    "            text-align: center;\n",
    "        }\n",
    "    </style>\n",
    "</head>\n",
    "\n",
    "<body>\n",
    "    <h2>Bell State #1 (Φ+) circuit</h2>\n",
    "</body>\n",
    "\n",
    "</html>"
   ]
  },
  {
   "cell_type": "markdown",
   "metadata": {},
   "source": [
    "1) Import the necessary packages."
   ]
  },
  {
   "cell_type": "code",
   "execution_count": 1,
   "metadata": {},
   "outputs": [],
   "source": [
    "from qiskit import QuantumCircuit, execute, Aer\n",
    "from qiskit.visualization import plot_histogram, plot_state_qsphere"
   ]
  },
  {
   "cell_type": "markdown",
   "metadata": {},
   "source": [
    "2) Let's build the Bell State #1 (Φ+) circuit."
   ]
  },
  {
   "cell_type": "code",
   "execution_count": 2,
   "metadata": {},
   "outputs": [
    {
     "data": {
      "image/png": "[encoded data removed]",
      "text/plain": [
       "<Figure size 454.517x284.278 with 1 Axes>"
      ]
     },
     "execution_count": 2,
     "metadata": {},
     "output_type": "execute_result"
    }
   ],
   "source": [
    "# We create a quantum circuit with 2 qubits and 2 classical bits\n",
    "qc1 = QuantumCircuit(2, 2)\n",
    "\n",
    "# We apply the Hadamard gate to the first qubit\n",
    "qc1.h(0)\n",
    "\n",
    "# We apply the CNOT gate to the first and second qubits\n",
    "qc1.cx(0, 1)\n",
    "\n",
    "# We measure both qubits\n",
    "qc1.measure(0, 0)\n",
    "qc1.measure(1, 1)\n",
    "\n",
    "# We draw the circuit\n",
    "qc1.draw(output='mpl')"
   ]
  },
  {
   "cell_type": "markdown",
   "metadata": {},
   "source": [
    "3) Let's see the result in the form of a histogram."
   ]
  },
  {
   "cell_type": "code",
   "execution_count": 3,
   "metadata": {},
   "outputs": [
    {
     "name": "stdout",
     "output_type": "stream",
     "text": [
      "{'00': 1}\n"
     ]
    },
    {
     "data": {
      "image/png": "[encoded data removed]",
      "text/plain": [
       "<Figure size 700x500 with 1 Axes>"
      ]
     },
     "execution_count": 3,
     "metadata": {},
     "output_type": "execute_result"
    }
   ],
   "source": [
    "# Simulate the circuit on a classical simulator\n",
    "simulator = Aer.get_backend('qasm_simulator')\n",
    "result = execute(qc1, simulator, shots=1).result()\n",
    "counts = result.get_counts()\n",
    "print(counts)\n",
    "\n",
    "# Plot the results\n",
    "plot_histogram(counts)"
   ]
  },
  {
   "cell_type": "markdown",
   "metadata": {},
   "source": [
    "`Here we see that the result is either |00⟩ or |11⟩. This is exactly what we expect from Bell State #1 (Φ+).`"
   ]
  },
  {
   "cell_type": "markdown",
   "metadata": {},
   "source": [
    "<!DOCTYPE html>\n",
    "<html>\n",
    "\n",
    "<head>\n",
    "    <title>X-Gate</title>\n",
    "    <link href=\"https://fonts.googleapis.com/css?family=Jost&display=swap\" rel=\"stylesheet\">\n",
    "    <style>\n",
    "        body {\n",
    "            font-family: 'Jost', sans-serif;\n",
    "        }\n",
    "        h1, h2, h3, h4, h5, h6, p, ol {\n",
    "            font-family: 'Jost', sans-serif;\n",
    "        }\n",
    "        h1{\n",
    "            color: orange;\n",
    "        }\n",
    "        h2 {\n",
    "            color: #8BC34A;\n",
    "        }\n",
    "        .center {\n",
    "            text-align: center;\n",
    "        }\n",
    "    </style>\n",
    "</head>\n",
    "\n",
    "<body>\n",
    "    <h2>Bell State #2 (Φ-) circuit</h2>\n",
    "</body>\n",
    "\n",
    "</html>"
   ]
  },
  {
   "cell_type": "markdown",
   "metadata": {},
   "source": [
    "1) Let's build the Bell State #2 (Φ-) circuit."
   ]
  },
  {
   "cell_type": "code",
   "execution_count": 4,
   "metadata": {},
   "outputs": [
    {
     "data": {
      "image/png": "[encoded data removed]",
      "text/plain": [
       "<Figure size 705.35x284.278 with 1 Axes>"
      ]
     },
     "execution_count": 4,
     "metadata": {},
     "output_type": "execute_result"
    }
   ],
   "source": [
    "# We create a quantum circuit with 2 qubits and 2 classical bits\n",
    "qc2 = QuantumCircuit(2, 2)\n",
    "\n",
    "# We initialize the input state to |01>\n",
    "qc2.x(0)\n",
    "qc2.barrier()\n",
    "\n",
    "# We apply the Hadamard gate to the first qubit\n",
    "qc2.h(0)\n",
    "\n",
    "# We apply the CNOT gate to the first and second qubits\n",
    "qc2.cx(0, 1)\n",
    "qc2.barrier()\n",
    "\n",
    "# We measure both qubits\n",
    "qc2.measure(0, 0)\n",
    "qc2.measure(1, 1)\n",
    "\n",
    "# We draw the circuit\n",
    "qc2.draw(output='mpl')"
   ]
  },
  {
   "cell_type": "markdown",
   "metadata": {},
   "source": [
    "2) Let's see the result in the form of a histogram."
   ]
  },
  {
   "cell_type": "code",
   "execution_count": 5,
   "metadata": {},
   "outputs": [
    {
     "name": "stdout",
     "output_type": "stream",
     "text": [
      "{'11': 1}\n"
     ]
    },
    {
     "data": {
      "image/png": "[encoded data removed]",
      "text/plain": [
       "<Figure size 700x500 with 1 Axes>"
      ]
     },
     "execution_count": 5,
     "metadata": {},
     "output_type": "execute_result"
    }
   ],
   "source": [
    "# Simulate the circuit on a classical simulator\n",
    "simulator = Aer.get_backend('qasm_simulator')\n",
    "result = execute(qc2, simulator, shots=1).result()\n",
    "counts = result.get_counts()\n",
    "print(counts)\n",
    "\n",
    "# Plot the results\n",
    "plot_histogram(counts)"
   ]
  },
  {
   "cell_type": "markdown",
   "metadata": {},
   "source": [
    "<!DOCTYPE html>\n",
    "<html>\n",
    "\n",
    "<head>\n",
    "    <link href=\"https://fonts.googleapis.com/css?family=Jost&display=swap\" rel=\"stylesheet\">\n",
    "    <style>\n",
    "        body {\n",
    "            font-family: 'Jost', sans-serif;\n",
    "        }\n",
    "        h1, h2, h3, h4, h5, h6, p, ol {\n",
    "            font-family: 'Jost', sans-serif;\n",
    "        }\n",
    "        h1{\n",
    "            color: orange;\n",
    "        }\n",
    "        h2 {\n",
    "            color: #8BC34A;\n",
    "        }\n",
    "        .center {\n",
    "            text-align: center;\n",
    "        }\n",
    "        /* Define the button styles */\n",
    "        .button {\n",
    "            background-color: #4CAF50; /* Green */\n",
    "            border: none;\n",
    "            color: white;\n",
    "            padding: 15px 32px;\n",
    "            text-align: center;\n",
    "            text-decoration: none;\n",
    "            display: inline-block;\n",
    "            font-size: 16px;\n",
    "            margin: 4px auto; /* Center the button horizontally */\n",
    "            cursor: pointer;\n",
    "            transition-duration: 0.4s;\n",
    "            border-radius: 10px; /* Add rounded corners */\n",
    "            box-shadow: 0 5px #666; /* Add a shadow */\n",
    "        }\n",
    "        /* Define the hover effect */\n",
    "        .button:hover {\n",
    "            background-color: #008CBA; /* Blue */\n",
    "            color: white;\n",
    "        }\n",
    "        /* Define the active effect */\n",
    "        .button:active {\n",
    "            background-color: #3e8e41; /* Dark green */\n",
    "            box-shadow: 0 2px #666; /* Change the shadow */\n",
    "            transform: translateY(4px);\n",
    "        }\n",
    "    </style>\n",
    "</head>\n",
    "\n",
    "<body>\n",
    "    <h2>What's next?</h2>\n",
    "    <p>Congratulations on mastering the Bell State Algorithm and experiencing the marvel of quantum entanglement 🎊🎉😊🥳! You've just scratched the surface of the fascinating world of quantum computing.<br> Now, it's time to take your quantum skills to the next level. In our upcoming notebook, we'll delve into an experiment that combines entanglement, teleportation, and the No-Cloning Theorem. You'll learn how to teleport quantum information from one qubit to another, all while keeping the secrets of quantum states safe and sound.<br> But here's the best part: you won't just learn about it; you'll get to run a <strong>```real-world quantum teleportation experiment on IBM's quantum computers```</strong>! Yes, you read that right—you'll take your quantum skills to the next level by performing experiments on actual quantum hardware. So, stay curious and get excited because quantum teleportation awaits in the next chapter of your quantum quest!</p>\n",
    "    <div class=\"center\"> <!-- Center the button vertically -->\n",
    "        <!-- Create the button element -->\n",
    "        <a href = \"Tele_exp.ipynb\"><button class=\"button\">Teleportation</button></a>\n",
    "    </div>\n",
    "</body>\n",
    "\n",
    "</html>"
   ]
  },
  {
   "cell_type": "markdown",
   "metadata": {},
   "source": [
    "<!DOCTYPE html>\n",
    "<html>\n",
    "\n",
    "<head>\n",
    "    <link href=\"https://fonts.googleapis.com/css?family=Jost&display=swap\" rel=\"stylesheet\">\n",
    "    <style>\n",
    "        body {\n",
    "            font-family: 'Jost', sans-serif;\n",
    "        }\n",
    "        .created-by {\n",
    "         font-family: 'Jost', sans-serif;\n",
    "         text-align: center;\n",
    "         margin-top: 50px;\n",
    "        }\n",
    "        .created-by a {\n",
    "            color: #fff;\n",
    "            text-decoration: none;\n",
    "        }\n",
    "        .created-by a:hover {\n",
    "            color: #8BC34A;\n",
    "        }\n",
    "    </style>\n",
    "</head>\n",
    "\n",
    "<body>\n",
    "    <div class=\"created-by\">\n",
    "        Created by <a href=\"https://www.linkedin.com/in/abdullah-al-omar-galib-30b6b1258\">Abdullah Al Omar Galib (Ahkatlio)</a>\n",
    "    </div>\n",
    "</body>\n",
    "\n",
    "</html>"
   ]
  }
 ],
 "metadata": {
  "kernelspec": {
   "display_name": "Python 3",
   "language": "python",
   "name": "python3"
  },
  "language_info": {
   "codemirror_mode": {
    "name": "ipython",
    "version": 3
   },
   "file_extension": ".py",
   "mimetype": "text/x-python",
   "name": "python",
   "nbconvert_exporter": "python",
   "pygments_lexer": "ipython3",
   "version": "3.11.5"
  },
  "orig_nbformat": 4
 },
 "nbformat": 4,
 "nbformat_minor": 2
}
