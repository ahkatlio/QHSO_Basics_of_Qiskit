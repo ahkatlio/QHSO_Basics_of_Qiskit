{
 "cells": [
  {
   "cell_type": "markdown",
   "metadata": {},
   "source": [
    "<!DOCTYPE html>\n",
    "<html>\n",
    "\n",
    "<head>\n",
    "    <title>Coin flip experiment with H Gate</title>\n",
    "    <link href=\"https://fonts.googleapis.com/css?family=Jost&display=swap\" rel=\"stylesheet\">\n",
    "    <style>\n",
    "        body {\n",
    "            font-family: 'Jost', sans-serif;\n",
    "        }\n",
    "        h1, h2, h3, h4, h5, h6, p, ol {\n",
    "            font-family: 'Jost', sans-serif;\n",
    "        }\n",
    "        h1{\n",
    "            color: orange;\n",
    "        }\n",
    "        h2 {\n",
    "            color: #8BC34A;\n",
    "        }\n",
    "        .center {\n",
    "            text-align: center;\n",
    "        }\n",
    "    </style>\n",
    "</head>\n",
    "\n",
    "<body>\n",
    "    <div class=\"center\">\n",
    "        <img src=\"Algorithms/Logo_for_all/logo_round.png\" alt=\"QHSO Logo\" width=\"100\">\n",
    "    </div>\n",
    "    <h1 style=\"text-align: center;\">Coin flip experiment with H Gate</h1>\n",
    "    <div class=\"center\">\n",
    "        <img src=\"Exp_Coin_Flip_Animation/CoinFlip.gif\" alt=\"Coin Flip animation\" width=\"200\">\n",
    "    </div>\n",
    "    <p>Welcome to the world of quantum computing, where we're about to embark on an exciting journey into the fascinating realm of quantum coin flips! 🪙 In this section, we'll conduct a series of experiments using a special kind of coin, a quantum coin represented as a qubit. Unlike regular coins, these quantum coins have a magical property – they can be in multiple states at once until we observe them.</p>\n",
    "    <p>So, grab your virtual quantum coin, and let's dive into this fascinating experiment that showcases the intriguing and somewhat mystical nature of quantum computing. Get ready to flip, measure, and explore the quantum coin's mysterious behavior! 🚀</p>\n",
    "    <h2>Let's do this experiment with Qiskit</h2>\n",
    "    <p>We'll simulate flipping a quantum coin, which is essentially a qubit in a superposition state. Let's dive into the experiment step by step:</p>\n",
    "</body>\n",
    "\n",
    "</html>"
   ]
  },
  {
   "cell_type": "markdown",
   "metadata": {},
   "source": [
    "1) We'll start by importing the necessary libraries from Qiskit and creating a quantum circuit with one qubit."
   ]
  },
  {
   "cell_type": "code",
   "execution_count": 36,
   "metadata": {
    "notebookRunGroups": {
     "groupValue": "2"
    }
   },
   "outputs": [],
   "source": [
    "# We import necessary libraries from Qiskit\n",
    "from qiskit import QuantumCircuit, Aer, execute\n",
    "\n",
    "# We create a quantum circuit with one qubit\n",
    "coin_flip_circuit = QuantumCircuit(1, 1)"
   ]
  },
  {
   "cell_type": "markdown",
   "metadata": {},
   "source": [
    "2) Next, we'll apply the Hadamard gate (H) to the qubit. The Hadamard gate creates a superposition, essentially making our quantum coin simultaneously show 'Heads' (|0⟩) and 'Tails' (|1⟩)."
   ]
  },
  {
   "cell_type": "code",
   "execution_count": 37,
   "metadata": {},
   "outputs": [
    {
     "data": {
      "text/plain": [
       "<qiskit.circuit.instructionset.InstructionSet at 0x1e1ff9703d0>"
      ]
     },
     "execution_count": 37,
     "metadata": {},
     "output_type": "execute_result"
    }
   ],
   "source": [
    "# We apply the H-gate (Hadamard gate) to create a superposition\n",
    "coin_flip_circuit.h(0)"
   ]
  },
  {
   "cell_type": "markdown",
   "metadata": {},
   "source": [
    "3) Now, let's measure the qubit to observe its state. The measurement outcome will determine whether our quantum coin lands on 'Heads' or 'Tails'."
   ]
  },
  {
   "cell_type": "code",
   "execution_count": 38,
   "metadata": {},
   "outputs": [
    {
     "data": {
      "text/plain": [
       "<qiskit.circuit.instructionset.InstructionSet at 0x1e1ff972680>"
      ]
     },
     "execution_count": 38,
     "metadata": {},
     "output_type": "execute_result"
    }
   ],
   "source": [
    "# We measure the qubit\n",
    "coin_flip_circuit.measure(0, 0)"
   ]
  },
  {
   "cell_type": "markdown",
   "metadata": {},
   "source": [
    "4) We'll use the Qiskit simulator to simulate the coin flip experiment. We'll run the experiment for a single shot, which simulates one coin flip."
   ]
  },
  {
   "cell_type": "code",
   "execution_count": 39,
   "metadata": {},
   "outputs": [],
   "source": [
    "# We simulate the circuit on a classical simulator\n",
    "simulator = Aer.get_backend('qasm_simulator')\n",
    "result = execute(coin_flip_circuit, simulator, shots=1).result()\n",
    "counts = result.get_counts()"
   ]
  },
  {
   "cell_type": "markdown",
   "metadata": {},
   "source": [
    "5) We'll check the measurement outcome and print whether the quantum coin landed on 'Heads' (|0⟩) or 'Tails' (|1⟩)."
   ]
  },
  {
   "cell_type": "code",
   "execution_count": 40,
   "metadata": {},
   "outputs": [
    {
     "name": "stdout",
     "output_type": "stream",
     "text": [
      "\u001b[31m  _______     \n",
      " /       \\    \n",
      "| (•) (•) |   \n",
      "|    ^    |   \n",
      " \\_______/    \n",
      "\u001b[0m\n",
      "\u001b[31mThe quantum coin landed on 'Heads' (|0⟩)!\u001b[0m\n"
     ]
    }
   ],
   "source": [
    "from termcolor import colored\n",
    "\n",
    "# We print the outcome with colored text and ASCII art\n",
    "if '0' in counts:\n",
    "    print(colored(\"  _______     \\n /       \\\\    \\n| (•) (•) |   \\n|    ^    |   \\n \\\\_______/    \\n\", 'red'))\n",
    "    print(colored(\"The quantum coin landed on 'Heads' (|0⟩)!\", 'red'))\n",
    "else:\n",
    "    print(colored(\"  _______     \\n /       \\\\    \\n| (•) (•) |   \\n|    v    |   \\n \\\\_______/    \\n\", 'green'))\n",
    "    print(colored(\"The quantum coin landed on 'Tails' (|1⟩)!\", 'green'))"
   ]
  },
  {
   "cell_type": "markdown",
   "metadata": {},
   "source": [
    "here each time we run the code we get different result"
   ]
  },
  {
   "cell_type": "markdown",
   "metadata": {},
   "source": [
    "When you run this notebook, you'll observe a probabilistic outcome, demonstrating the intriguing behavior of quantum superposition and the quantum coin flip experiment using Qiskit."
   ]
  },
  {
   "cell_type": "markdown",
   "metadata": {},
   "source": [
    "<!DOCTYPE html>\n",
    "<html>\n",
    "\n",
    "<head>\n",
    "    <link href=\"https://fonts.googleapis.com/css?family=Jost&display=swap\" rel=\"stylesheet\">\n",
    "    <style>\n",
    "        body {\n",
    "            font-family: 'Jost', sans-serif;\n",
    "        }\n",
    "        h1, h2, h3, h4, h5, h6, p, ol {\n",
    "            font-family: 'Jost', sans-serif;\n",
    "        }\n",
    "        h1{\n",
    "            color: orange;\n",
    "        }\n",
    "        h2 {\n",
    "            color: #8BC34A;\n",
    "        }\n",
    "        .center {\n",
    "            text-align: center;\n",
    "        }\n",
    "        /* Define the button styles */\n",
    "        .button {\n",
    "            background-color: #4CAF50; /* Green */\n",
    "            border: none;\n",
    "            color: white;\n",
    "            padding: 15px 32px;\n",
    "            text-align: center;\n",
    "            text-decoration: none;\n",
    "            display: inline-block;\n",
    "            font-size: 16px;\n",
    "            margin: 4px auto; /* Center the button horizontally */\n",
    "            cursor: pointer;\n",
    "            transition-duration: 0.4s;\n",
    "            border-radius: 10px; /* Add rounded corners */\n",
    "            box-shadow: 0 5px #666; /* Add a shadow */\n",
    "        }\n",
    "        /* Define the hover effect */\n",
    "        .button:hover {\n",
    "            background-color: #008CBA; /* Blue */\n",
    "            color: white;\n",
    "        }\n",
    "        /* Define the active effect */\n",
    "        .button:active {\n",
    "            background-color: #3e8e41; /* Dark green */\n",
    "            box-shadow: 0 2px #666; /* Change the shadow */\n",
    "            transform: translateY(4px);\n",
    "        }\n",
    "    </style>\n",
    "</head>\n",
    "\n",
    "<body>\n",
    "    <h2>Next Steps</h2>\n",
    "    <p>Congratulations 🎊🎉! You've just witnessed the fascinating world of quantum superposition through our Quantum Coin Flip Experiment using the Hadamard gate. This experiment showcased the probabilistic nature of quantum states and measurements. Now, it's time to dive even deeper into the quantum realm. In our next notebook, we'll explore an essential quantum gate called the CX (CNOT) gate. This gate plays a crucial role in quantum circuits and enables the creation of entangled states—a phenomenon that's at the heart of quantum computing's power. In the upcoming notebook, we'll unravel the mysteries of the CX gate, understand its behavior, and explore its applications in quantum algorithms. Get ready for another exciting journey into the quantum world! Stay curious and let's continue our quantum adventure!</p>\n",
    "    <p>Click the button below</p>\n",
    "    <div class=\"center\"> <!-- Center the button vertically -->\n",
    "        <!-- Create the button element -->\n",
    "        <a href = \"CX_gate.ipynb\"><button class=\"button\">CX Gate</button></a>\n",
    "    </div>\n",
    "</body>\n",
    "\n",
    "</html>"
   ]
  },
  {
   "cell_type": "markdown",
   "metadata": {},
   "source": [
    "<!DOCTYPE html>\n",
    "<html>\n",
    "\n",
    "<head>\n",
    "    <link href=\"https://fonts.googleapis.com/css?family=Jost&display=swap\" rel=\"stylesheet\">\n",
    "    <style>\n",
    "        body {\n",
    "            font-family: 'Jost', sans-serif;\n",
    "        }\n",
    "        .created-by {\n",
    "         font-family: 'Jost', sans-serif;\n",
    "         text-align: center;\n",
    "         margin-top: 50px;\n",
    "        }\n",
    "        .created-by a {\n",
    "            color: #fff;\n",
    "            text-decoration: none;\n",
    "        }\n",
    "        .created-by a:hover {\n",
    "            color: #8BC34A;\n",
    "        }\n",
    "    </style>\n",
    "</head>\n",
    "\n",
    "<body>\n",
    "    <div class=\"created-by\">\n",
    "        Created by <a href=\"https://www.linkedin.com/in/abdullah-al-omar-galib-30b6b1258\">Abdullah Al Omar Galib (Ahkatlio)</a>\n",
    "    </div>\n",
    "</body>\n",
    "\n",
    "</html>"
   ]
  }
 ],
 "metadata": {
  "kernelspec": {
   "display_name": "Python 3",
   "language": "python",
   "name": "python3"
  },
  "language_info": {
   "codemirror_mode": {
    "name": "ipython",
    "version": 3
   },
   "file_extension": ".py",
   "mimetype": "text/x-python",
   "name": "python",
   "nbconvert_exporter": "python",
   "pygments_lexer": "ipython3",
   "version": "3.11.5"
  },
  "orig_nbformat": 4
 },
 "nbformat": 4,
 "nbformat_minor": 2
}
