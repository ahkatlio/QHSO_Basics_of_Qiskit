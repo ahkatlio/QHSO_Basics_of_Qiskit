{
 "cells": [
  {
   "cell_type": "markdown",
   "metadata": {},
   "source": [
    "<!DOCTYPE html>\n",
    "<html>\n",
    "\n",
    "<head>\n",
    "    <title>H gate</title>\n",
    "    <link href=\"https://fonts.googleapis.com/css?family=Jost&display=swap\" rel=\"stylesheet\">\n",
    "    <style>\n",
    "        body {\n",
    "            font-family: 'Jost', sans-serif;\n",
    "        }\n",
    "        h1, h2, h3, h4, h5, h6, p, ol {\n",
    "            font-family: 'Jost', sans-serif;\n",
    "        }\n",
    "        h1{\n",
    "            color: orange;\n",
    "        }\n",
    "        h2 {\n",
    "            color: #8BC34A;\n",
    "        }\n",
    "        .center {\n",
    "            text-align: center;\n",
    "        }\n",
    "    </style>\n",
    "</head>\n",
    "\n",
    "<body>\n",
    "    <h1>Understanding State Vectors</h1>\n",
    "    <p>Imagine you have a friend named Qubit, but Qubit is not an ordinary friend; Qubit is a magical quantum friend. Qubit can be in some pretty strange states that regular friends can't.</p>\n",
    "    <h2>Two Magical States</h2>\n",
    "    <p>Regular friends can be happy or sad, but Qubit can be in two special states:</p>\n",
    "    <ul>\n",
    "        <li><strong>|0⟩:</strong> This is like the \"Happy Room.\" When Qubit is in |0⟩, it's super happy.</li>\n",
    "        <li><strong>|1⟩:</strong> This is the \"Sad Room.\" When Qubit is in |1⟩, it's feeling a bit down.</li>\n",
    "    </ul>\n",
    "    <h2>But Qubit Can Be a Magician</h2>\n",
    "    <p>Here's where it gets really cool. Qubit can also be in a magical state called \"superposition.\" It's like Qubit is doing a magic trick, and it can be both happy and sad at the same time! This magical state is written as |+⟩.</p>\n",
    "    <p>So, Qubit can be in three states:</p>\n",
    "    <ul>\n",
    "        <li>|0⟩ (Happy)</li>\n",
    "        <li>|1⟩ (Sad)</li>\n",
    "        <li>|+⟩ (Magical, both happy and sad)</li>\n",
    "    </ul>\n",
    "    <h2>What is a State Vector?</h2>\n",
    "    <p>A state vector is like a map that helps you find where your friend Qubit is. It's a way to describe which state Qubit is in, whether it's happy, sad, or doing a magic trick. The state vector is like a special chart that keeps track of Qubit's mood.</p>\n",
    "    <p>Imagine it like this: the state vector measures how much happy or sad your friend Qubit can be. Before you ask Qubit, you can't be sure if he's happy or sad. The state vector tells you the probabilities, like flipping a coin to see if it's heads (happy) or tails (sad).</p>\n",
    "    <h2>State Vector is Like a Mood Chart</h2>\n",
    "    <p>Now, imagine you have a chart where you keep track of how your friend Qubit is feeling. This chart is called the \"state vector.\" It helps you know if Qubit is in the Happy Room, the Sad Room, or doing a magic trick in the Magical Room.</p>\n",
    "    <p>So, when you hear about a \"state vector,\" think of it as a mood chart for Qubit, telling you if Qubit is happy, sad, or doing some quantum magic. It helps us understand and work with our quantum friend, Qubit!</p>\n",
    "</body>\n",
    "\n",
    "</html>"
   ]
  }
 ],
 "metadata": {
  "language_info": {
   "name": "python"
  },
  "orig_nbformat": 4
 },
 "nbformat": 4,
 "nbformat_minor": 2
}
